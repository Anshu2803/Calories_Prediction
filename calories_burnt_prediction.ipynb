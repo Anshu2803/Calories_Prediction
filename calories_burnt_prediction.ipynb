{
  "cells": [
    {
      "cell_type": "markdown",
      "metadata": {
        "id": "EP1IBxTreKYO"
      },
      "source": [
        "Importing the Dependencies"
      ]
    },
    {
      "cell_type": "code",
      "execution_count": 101,
      "metadata": {
        "id": "6z4ZMOPheE6M",
        "colab": {
          "base_uri": "https://localhost:8080/"
        },
        "outputId": "1ffe5bea-d474-43cb-8cc7-8b2089b70a96"
      },
      "outputs": [
        {
          "output_type": "stream",
          "name": "stdout",
          "text": [
            "Requirement already satisfied: catboost in /usr/local/lib/python3.11/dist-packages (1.2.7)\n",
            "Requirement already satisfied: graphviz in /usr/local/lib/python3.11/dist-packages (from catboost) (0.20.3)\n",
            "Requirement already satisfied: matplotlib in /usr/local/lib/python3.11/dist-packages (from catboost) (3.10.0)\n",
            "Requirement already satisfied: numpy<2.0,>=1.16.0 in /usr/local/lib/python3.11/dist-packages (from catboost) (1.26.4)\n",
            "Requirement already satisfied: pandas>=0.24 in /usr/local/lib/python3.11/dist-packages (from catboost) (2.2.2)\n",
            "Requirement already satisfied: scipy in /usr/local/lib/python3.11/dist-packages (from catboost) (1.13.1)\n",
            "Requirement already satisfied: plotly in /usr/local/lib/python3.11/dist-packages (from catboost) (5.24.1)\n",
            "Requirement already satisfied: six in /usr/local/lib/python3.11/dist-packages (from catboost) (1.17.0)\n",
            "Requirement already satisfied: python-dateutil>=2.8.2 in /usr/local/lib/python3.11/dist-packages (from pandas>=0.24->catboost) (2.8.2)\n",
            "Requirement already satisfied: pytz>=2020.1 in /usr/local/lib/python3.11/dist-packages (from pandas>=0.24->catboost) (2024.2)\n",
            "Requirement already satisfied: tzdata>=2022.7 in /usr/local/lib/python3.11/dist-packages (from pandas>=0.24->catboost) (2025.1)\n",
            "Requirement already satisfied: contourpy>=1.0.1 in /usr/local/lib/python3.11/dist-packages (from matplotlib->catboost) (1.3.1)\n",
            "Requirement already satisfied: cycler>=0.10 in /usr/local/lib/python3.11/dist-packages (from matplotlib->catboost) (0.12.1)\n",
            "Requirement already satisfied: fonttools>=4.22.0 in /usr/local/lib/python3.11/dist-packages (from matplotlib->catboost) (4.55.4)\n",
            "Requirement already satisfied: kiwisolver>=1.3.1 in /usr/local/lib/python3.11/dist-packages (from matplotlib->catboost) (1.4.8)\n",
            "Requirement already satisfied: packaging>=20.0 in /usr/local/lib/python3.11/dist-packages (from matplotlib->catboost) (24.2)\n",
            "Requirement already satisfied: pillow>=8 in /usr/local/lib/python3.11/dist-packages (from matplotlib->catboost) (11.1.0)\n",
            "Requirement already satisfied: pyparsing>=2.3.1 in /usr/local/lib/python3.11/dist-packages (from matplotlib->catboost) (3.2.1)\n",
            "Requirement already satisfied: tenacity>=6.2.0 in /usr/local/lib/python3.11/dist-packages (from plotly->catboost) (9.0.0)\n"
          ]
        }
      ],
      "source": [
        "import numpy as np\n",
        "import pandas as pd\n",
        "import matplotlib.pyplot as plt\n",
        "import seaborn as sns\n",
        "from sklearn.model_selection import train_test_split\n",
        "!pip install catboost\n",
        "from sklearn import metrics\n",
        "from catboost import CatBoostRegressor"
      ]
    },
    {
      "cell_type": "markdown",
      "metadata": {
        "id": "0eSn895ZgU1w"
      },
      "source": [
        "Data Collection and Preprocessing"
      ]
    },
    {
      "cell_type": "code",
      "execution_count": null,
      "metadata": {
        "id": "f7FqfExxehsE"
      },
      "outputs": [],
      "source": [
        "#loading the data from csv file to pandas dataframe\n",
        "calories = pd.read_csv('/content/calories.csv')"
      ]
    },
    {
      "cell_type": "code",
      "execution_count": null,
      "metadata": {
        "id": "S8Uv-PXngmvR"
      },
      "outputs": [],
      "source": [
        "#printing the first 5 rows for structure study\n",
        "calories.head()"
      ]
    },
    {
      "cell_type": "code",
      "execution_count": null,
      "metadata": {
        "id": "337i421Dgw1t"
      },
      "outputs": [],
      "source": [
        "exercise = pd.read_csv('/content/exercise.csv')"
      ]
    },
    {
      "cell_type": "code",
      "execution_count": null,
      "metadata": {
        "id": "hI0yWVdMg8R4"
      },
      "outputs": [],
      "source": [
        "exercise.head()"
      ]
    },
    {
      "cell_type": "markdown",
      "metadata": {
        "id": "ZELj4VmZhbr8"
      },
      "source": [
        "combining the two dataframes as both can be used for predicting"
      ]
    },
    {
      "cell_type": "code",
      "execution_count": null,
      "metadata": {
        "id": "-RRnOctyg94m"
      },
      "outputs": [],
      "source": [
        "calories_data = pd.concat([exercise, calories['Calories']], axis = 1)"
      ]
    },
    {
      "cell_type": "code",
      "execution_count": null,
      "metadata": {
        "id": "OKMElT4zhqsK"
      },
      "outputs": [],
      "source": [
        "calories_data.head()"
      ]
    },
    {
      "cell_type": "code",
      "execution_count": null,
      "metadata": {
        "id": "pIWNPaLfh-X6"
      },
      "outputs": [],
      "source": [
        "#checking the number of the rows and columns of combined dataframe\n",
        "calories_data.shape"
      ]
    },
    {
      "cell_type": "markdown",
      "metadata": {
        "id": "B9shs-6Vi8Aa"
      },
      "source": [
        "Statistical Measure About the data"
      ]
    },
    {
      "cell_type": "code",
      "execution_count": null,
      "metadata": {
        "id": "NNYvPH9bh_9J"
      },
      "outputs": [],
      "source": [
        "#getting statistical measure about the data\n",
        "calories_data.describe()"
      ]
    },
    {
      "cell_type": "code",
      "execution_count": null,
      "metadata": {
        "id": "O9MK3cFriNJ9"
      },
      "outputs": [],
      "source": [
        "#getting information about the data\n",
        "calories_data.info()"
      ]
    },
    {
      "cell_type": "code",
      "execution_count": null,
      "metadata": {
        "id": "1wVEdzuFihPd"
      },
      "outputs": [],
      "source": [
        "#checking for missing values\n",
        "calories_data.isnull().sum()"
      ]
    },
    {
      "cell_type": "markdown",
      "metadata": {
        "id": "nyWYN30VkbYX"
      },
      "source": [
        "Data Visualization"
      ]
    },
    {
      "cell_type": "code",
      "execution_count": null,
      "metadata": {
        "id": "74_0BcaLixUx"
      },
      "outputs": [],
      "source": [
        "sns.set()"
      ]
    },
    {
      "cell_type": "code",
      "execution_count": null,
      "metadata": {
        "id": "m-twJVI0kepP"
      },
      "outputs": [],
      "source": [
        "#plotting the gender column in the count plot\n",
        "sns.countplot(calories_data['Gender'])"
      ]
    },
    {
      "cell_type": "code",
      "execution_count": null,
      "metadata": {
        "id": "_17uM2hlkofw"
      },
      "outputs": [],
      "source": [
        "#finding the distribution of 'Age' column with seaborn\n",
        "sns.distplot(calories_data['Age'])"
      ]
    },
    {
      "cell_type": "code",
      "execution_count": null,
      "metadata": {
        "id": "RFgfMd70lPUI"
      },
      "outputs": [],
      "source": [
        "#finding the distribution of 'height' column with seaborn\n",
        "sns.distplot(calories_data['Height'])"
      ]
    },
    {
      "cell_type": "code",
      "execution_count": null,
      "metadata": {
        "colab": {
          "background_save": true
        },
        "id": "5g7XST61mWS0"
      },
      "outputs": [],
      "source": [
        "#finding the distribution of 'weight' column with seaborn\n",
        "sns.distplot(calories_data['Weight'])"
      ]
    },
    {
      "cell_type": "code",
      "execution_count": null,
      "metadata": {
        "colab": {
          "background_save": true
        },
        "id": "VfSQP26zmdoX"
      },
      "outputs": [],
      "source": [
        "#finding the distribution of 'duration' column with seaborn\n",
        "sns.displot(calories_data['Duration'])"
      ]
    },
    {
      "cell_type": "markdown",
      "metadata": {
        "id": "vx21a6Vwmw1K"
      },
      "source": [
        "Correlation in the data set"
      ]
    },
    {
      "cell_type": "code",
      "execution_count": null,
      "metadata": {
        "colab": {
          "background_save": true
        },
        "id": "kzfupVWYmiKZ"
      },
      "outputs": [],
      "source": [
        "# Selecting only the numerical features for correlation calculation\n",
        "numerical_features = calories_data.select_dtypes(include=np.number)\n",
        "correlation = numerical_features.corr()"
      ]
    },
    {
      "cell_type": "code",
      "execution_count": null,
      "metadata": {
        "colab": {
          "background_save": true
        },
        "id": "Br6fSxMbm6m3"
      },
      "outputs": [],
      "source": [
        "#constructing a heat map to understand the correlation\n",
        "plt.figure(figsize=(10,10))\n",
        "sns.heatmap(correlation, cbar=True, square=True, fmt='.1f', annot=True, annot_kws={'size':8}, cmap= 'Blues')"
      ]
    },
    {
      "cell_type": "markdown",
      "metadata": {
        "id": "KHsnQnaYpE5K"
      },
      "source": [
        "Converting the text data into numerical"
      ]
    },
    {
      "cell_type": "code",
      "execution_count": null,
      "metadata": {
        "colab": {
          "background_save": true
        },
        "id": "6ELO5LSxn5Hw"
      },
      "outputs": [],
      "source": [
        "calories_data.replace({'Gender':{'male':0,'female':1}}, inplace = True)"
      ]
    },
    {
      "cell_type": "code",
      "execution_count": null,
      "metadata": {
        "colab": {
          "background_save": true
        },
        "id": "xTCEd0S-pi0M"
      },
      "outputs": [],
      "source": [
        "calories_data.head()"
      ]
    },
    {
      "cell_type": "markdown",
      "metadata": {
        "id": "xpVqkCbCqM-d"
      },
      "source": [
        "Seprating feature and target\n"
      ]
    },
    {
      "cell_type": "code",
      "execution_count": null,
      "metadata": {
        "colab": {
          "background_save": true
        },
        "id": "ZfTyiUk1puC_"
      },
      "outputs": [],
      "source": [
        "X = calories_data.drop(columns = ['User_ID', 'Calories'], axis=1)\n",
        "Y = calories_data['Calories']"
      ]
    },
    {
      "cell_type": "code",
      "execution_count": null,
      "metadata": {
        "colab": {
          "background_save": true
        },
        "id": "aY5dRqEHqmTP"
      },
      "outputs": [],
      "source": [
        "print(X)"
      ]
    },
    {
      "cell_type": "code",
      "execution_count": null,
      "metadata": {
        "colab": {
          "background_save": true
        },
        "id": "3ZigppIIqoSS"
      },
      "outputs": [],
      "source": [
        "print(Y)"
      ]
    },
    {
      "cell_type": "markdown",
      "metadata": {
        "id": "7JoTtQm9qs_X"
      },
      "source": [
        "Splitting the data into training and test data\n"
      ]
    },
    {
      "cell_type": "code",
      "execution_count": null,
      "metadata": {
        "colab": {
          "background_save": true
        },
        "id": "nijglk78qpGy"
      },
      "outputs": [],
      "source": [
        "X_train, X_test, Y_train, Y_test = train_test_split(X, Y, test_size=0.2, random_state=2)"
      ]
    },
    {
      "cell_type": "code",
      "execution_count": null,
      "metadata": {
        "colab": {
          "background_save": true
        },
        "id": "vhOs4hEDrRUe"
      },
      "outputs": [],
      "source": [
        "#structure after splitting\n",
        "print(X.shape, X_train.shape, X_test.shape)"
      ]
    },
    {
      "cell_type": "markdown",
      "metadata": {
        "id": "QoPc23IkrdDo"
      },
      "source": [
        "Model Training"
      ]
    },
    {
      "cell_type": "code",
      "execution_count": 107,
      "metadata": {
        "id": "_U4OKd2Kq6Bx"
      },
      "outputs": [],
      "source": [
        "model = CatBoostRegressor()"
      ]
    },
    {
      "cell_type": "code",
      "execution_count": 108,
      "metadata": {
        "colab": {
          "base_uri": "https://localhost:8080/"
        },
        "id": "WaVVN1vaq-WD",
        "outputId": "2bc46560-51b7-4576-f323-3574305450a0"
      },
      "outputs": [
        {
          "output_type": "stream",
          "name": "stdout",
          "text": [
            "Learning rate set to 0.06063\n",
            "0:\tlearn: 59.0633191\ttotal: 2.79ms\tremaining: 2.79s\n",
            "1:\tlearn: 55.8781450\ttotal: 5.23ms\tremaining: 2.61s\n",
            "2:\tlearn: 52.8127867\ttotal: 7.98ms\tremaining: 2.65s\n",
            "3:\tlearn: 49.9519531\ttotal: 10.5ms\tremaining: 2.62s\n",
            "4:\tlearn: 47.3023222\ttotal: 13.1ms\tremaining: 2.61s\n",
            "5:\tlearn: 44.7787389\ttotal: 15.7ms\tremaining: 2.61s\n",
            "6:\tlearn: 42.4222618\ttotal: 18.4ms\tremaining: 2.6s\n",
            "7:\tlearn: 40.2724922\ttotal: 20.9ms\tremaining: 2.6s\n",
            "8:\tlearn: 38.1889349\ttotal: 23.4ms\tremaining: 2.58s\n",
            "9:\tlearn: 36.1544597\ttotal: 26.4ms\tremaining: 2.61s\n",
            "10:\tlearn: 34.3390111\ttotal: 29.1ms\tremaining: 2.62s\n",
            "11:\tlearn: 32.5985595\ttotal: 31.5ms\tremaining: 2.59s\n",
            "12:\tlearn: 30.9249778\ttotal: 34.4ms\tremaining: 2.61s\n",
            "13:\tlearn: 29.3711851\ttotal: 37.1ms\tremaining: 2.62s\n",
            "14:\tlearn: 27.8473666\ttotal: 39.8ms\tremaining: 2.62s\n",
            "15:\tlearn: 26.4267625\ttotal: 42.5ms\tremaining: 2.61s\n",
            "16:\tlearn: 25.0811706\ttotal: 45.1ms\tremaining: 2.61s\n",
            "17:\tlearn: 23.8648622\ttotal: 47.9ms\tremaining: 2.61s\n",
            "18:\tlearn: 22.7237102\ttotal: 51.3ms\tremaining: 2.65s\n",
            "19:\tlearn: 21.6611551\ttotal: 53.7ms\tremaining: 2.63s\n",
            "20:\tlearn: 20.6770568\ttotal: 56.4ms\tremaining: 2.63s\n",
            "21:\tlearn: 19.6892993\ttotal: 59.2ms\tremaining: 2.63s\n",
            "22:\tlearn: 18.7691610\ttotal: 61.9ms\tremaining: 2.63s\n",
            "23:\tlearn: 17.8760907\ttotal: 64.5ms\tremaining: 2.62s\n",
            "24:\tlearn: 17.0546717\ttotal: 67.1ms\tremaining: 2.62s\n",
            "25:\tlearn: 16.2641349\ttotal: 69.7ms\tremaining: 2.61s\n",
            "26:\tlearn: 15.5578083\ttotal: 72.3ms\tremaining: 2.6s\n",
            "27:\tlearn: 14.8563551\ttotal: 74.8ms\tremaining: 2.59s\n",
            "28:\tlearn: 14.2016656\ttotal: 77.3ms\tremaining: 2.59s\n",
            "29:\tlearn: 13.5938208\ttotal: 79.9ms\tremaining: 2.58s\n",
            "30:\tlearn: 13.0154845\ttotal: 82.5ms\tremaining: 2.58s\n",
            "31:\tlearn: 12.4462559\ttotal: 85ms\tremaining: 2.57s\n",
            "32:\tlearn: 11.9093936\ttotal: 88.9ms\tremaining: 2.6s\n",
            "33:\tlearn: 11.4283153\ttotal: 93ms\tremaining: 2.64s\n",
            "34:\tlearn: 10.9722469\ttotal: 101ms\tremaining: 2.77s\n",
            "35:\tlearn: 10.5370326\ttotal: 107ms\tremaining: 2.87s\n",
            "36:\tlearn: 10.1181411\ttotal: 113ms\tremaining: 2.94s\n",
            "37:\tlearn: 9.7413273\ttotal: 116ms\tremaining: 2.93s\n",
            "38:\tlearn: 9.3611011\ttotal: 118ms\tremaining: 2.91s\n",
            "39:\tlearn: 8.9990246\ttotal: 121ms\tremaining: 2.89s\n",
            "40:\tlearn: 8.6918078\ttotal: 123ms\tremaining: 2.88s\n",
            "41:\tlearn: 8.3919829\ttotal: 126ms\tremaining: 2.87s\n",
            "42:\tlearn: 8.0966012\ttotal: 128ms\tremaining: 2.85s\n",
            "43:\tlearn: 7.8268487\ttotal: 131ms\tremaining: 2.84s\n",
            "44:\tlearn: 7.5634937\ttotal: 133ms\tremaining: 2.82s\n",
            "45:\tlearn: 7.3131746\ttotal: 135ms\tremaining: 2.81s\n",
            "46:\tlearn: 7.0724362\ttotal: 138ms\tremaining: 2.8s\n",
            "47:\tlearn: 6.8557501\ttotal: 140ms\tremaining: 2.79s\n",
            "48:\tlearn: 6.6506116\ttotal: 143ms\tremaining: 2.78s\n",
            "49:\tlearn: 6.4701173\ttotal: 145ms\tremaining: 2.76s\n",
            "50:\tlearn: 6.2757292\ttotal: 148ms\tremaining: 2.75s\n",
            "51:\tlearn: 6.1028366\ttotal: 150ms\tremaining: 2.74s\n",
            "52:\tlearn: 5.9458428\ttotal: 153ms\tremaining: 2.73s\n",
            "53:\tlearn: 5.7978256\ttotal: 155ms\tremaining: 2.72s\n",
            "54:\tlearn: 5.6447287\ttotal: 158ms\tremaining: 2.71s\n",
            "55:\tlearn: 5.5090025\ttotal: 160ms\tremaining: 2.7s\n",
            "56:\tlearn: 5.3824548\ttotal: 163ms\tremaining: 2.69s\n",
            "57:\tlearn: 5.2681918\ttotal: 165ms\tremaining: 2.68s\n",
            "58:\tlearn: 5.1467061\ttotal: 168ms\tremaining: 2.67s\n",
            "59:\tlearn: 5.0243481\ttotal: 170ms\tremaining: 2.67s\n",
            "60:\tlearn: 4.9307959\ttotal: 173ms\tremaining: 2.66s\n",
            "61:\tlearn: 4.8215872\ttotal: 175ms\tremaining: 2.65s\n",
            "62:\tlearn: 4.7338003\ttotal: 178ms\tremaining: 2.64s\n",
            "63:\tlearn: 4.6451704\ttotal: 180ms\tremaining: 2.63s\n",
            "64:\tlearn: 4.5529504\ttotal: 183ms\tremaining: 2.63s\n",
            "65:\tlearn: 4.4763756\ttotal: 185ms\tremaining: 2.62s\n",
            "66:\tlearn: 4.3946342\ttotal: 191ms\tremaining: 2.66s\n",
            "67:\tlearn: 4.3170306\ttotal: 194ms\tremaining: 2.66s\n",
            "68:\tlearn: 4.2602254\ttotal: 196ms\tremaining: 2.65s\n",
            "69:\tlearn: 4.2019746\ttotal: 199ms\tremaining: 2.64s\n",
            "70:\tlearn: 4.1345137\ttotal: 201ms\tremaining: 2.63s\n",
            "71:\tlearn: 4.0684530\ttotal: 204ms\tremaining: 2.63s\n",
            "72:\tlearn: 3.9978194\ttotal: 206ms\tremaining: 2.62s\n",
            "73:\tlearn: 3.9480890\ttotal: 209ms\tremaining: 2.61s\n",
            "74:\tlearn: 3.8912019\ttotal: 212ms\tremaining: 2.61s\n",
            "75:\tlearn: 3.8426784\ttotal: 214ms\tremaining: 2.6s\n",
            "76:\tlearn: 3.7808954\ttotal: 217ms\tremaining: 2.6s\n",
            "77:\tlearn: 3.7285816\ttotal: 219ms\tremaining: 2.59s\n",
            "78:\tlearn: 3.6854017\ttotal: 221ms\tremaining: 2.58s\n",
            "79:\tlearn: 3.6412444\ttotal: 224ms\tremaining: 2.57s\n",
            "80:\tlearn: 3.6045785\ttotal: 226ms\tremaining: 2.57s\n",
            "81:\tlearn: 3.5650513\ttotal: 229ms\tremaining: 2.56s\n",
            "82:\tlearn: 3.5323725\ttotal: 231ms\tremaining: 2.55s\n",
            "83:\tlearn: 3.4954080\ttotal: 234ms\tremaining: 2.55s\n",
            "84:\tlearn: 3.4522592\ttotal: 236ms\tremaining: 2.54s\n",
            "85:\tlearn: 3.4170588\ttotal: 239ms\tremaining: 2.54s\n",
            "86:\tlearn: 3.3822007\ttotal: 241ms\tremaining: 2.53s\n",
            "87:\tlearn: 3.3411983\ttotal: 244ms\tremaining: 2.53s\n",
            "88:\tlearn: 3.3026353\ttotal: 246ms\tremaining: 2.52s\n",
            "89:\tlearn: 3.2671085\ttotal: 249ms\tremaining: 2.52s\n",
            "90:\tlearn: 3.2394007\ttotal: 251ms\tremaining: 2.51s\n",
            "91:\tlearn: 3.2062748\ttotal: 254ms\tremaining: 2.5s\n",
            "92:\tlearn: 3.1761605\ttotal: 256ms\tremaining: 2.5s\n",
            "93:\tlearn: 3.1451922\ttotal: 259ms\tremaining: 2.5s\n",
            "94:\tlearn: 3.1274541\ttotal: 261ms\tremaining: 2.49s\n",
            "95:\tlearn: 3.1071673\ttotal: 264ms\tremaining: 2.48s\n",
            "96:\tlearn: 3.0783796\ttotal: 266ms\tremaining: 2.48s\n",
            "97:\tlearn: 3.0471370\ttotal: 269ms\tremaining: 2.47s\n",
            "98:\tlearn: 3.0280534\ttotal: 271ms\tremaining: 2.46s\n",
            "99:\tlearn: 3.0050623\ttotal: 273ms\tremaining: 2.46s\n",
            "100:\tlearn: 2.9863036\ttotal: 276ms\tremaining: 2.46s\n",
            "101:\tlearn: 2.9636279\ttotal: 278ms\tremaining: 2.45s\n",
            "102:\tlearn: 2.9485420\ttotal: 281ms\tremaining: 2.44s\n",
            "103:\tlearn: 2.9222334\ttotal: 283ms\tremaining: 2.44s\n",
            "104:\tlearn: 2.9010731\ttotal: 286ms\tremaining: 2.44s\n",
            "105:\tlearn: 2.8809535\ttotal: 289ms\tremaining: 2.44s\n",
            "106:\tlearn: 2.8647110\ttotal: 293ms\tremaining: 2.44s\n",
            "107:\tlearn: 2.8460744\ttotal: 295ms\tremaining: 2.44s\n",
            "108:\tlearn: 2.8130410\ttotal: 298ms\tremaining: 2.43s\n",
            "109:\tlearn: 2.7889060\ttotal: 300ms\tremaining: 2.43s\n",
            "110:\tlearn: 2.7719308\ttotal: 303ms\tremaining: 2.42s\n",
            "111:\tlearn: 2.7568774\ttotal: 305ms\tremaining: 2.42s\n",
            "112:\tlearn: 2.7319398\ttotal: 308ms\tremaining: 2.41s\n",
            "113:\tlearn: 2.7134925\ttotal: 310ms\tremaining: 2.41s\n",
            "114:\tlearn: 2.6938412\ttotal: 312ms\tremaining: 2.4s\n",
            "115:\tlearn: 2.6779265\ttotal: 315ms\tremaining: 2.4s\n",
            "116:\tlearn: 2.6612672\ttotal: 317ms\tremaining: 2.39s\n",
            "117:\tlearn: 2.6466680\ttotal: 320ms\tremaining: 2.39s\n",
            "118:\tlearn: 2.6258756\ttotal: 322ms\tremaining: 2.38s\n",
            "119:\tlearn: 2.6050254\ttotal: 325ms\tremaining: 2.38s\n",
            "120:\tlearn: 2.5833416\ttotal: 327ms\tremaining: 2.38s\n",
            "121:\tlearn: 2.5659696\ttotal: 330ms\tremaining: 2.37s\n",
            "122:\tlearn: 2.5470617\ttotal: 332ms\tremaining: 2.37s\n",
            "123:\tlearn: 2.5301657\ttotal: 335ms\tremaining: 2.36s\n",
            "124:\tlearn: 2.5126437\ttotal: 337ms\tremaining: 2.36s\n",
            "125:\tlearn: 2.4973852\ttotal: 339ms\tremaining: 2.35s\n",
            "126:\tlearn: 2.4871623\ttotal: 342ms\tremaining: 2.35s\n",
            "127:\tlearn: 2.4675150\ttotal: 344ms\tremaining: 2.34s\n",
            "128:\tlearn: 2.4549576\ttotal: 347ms\tremaining: 2.34s\n",
            "129:\tlearn: 2.4425867\ttotal: 349ms\tremaining: 2.33s\n",
            "130:\tlearn: 2.4238537\ttotal: 351ms\tremaining: 2.33s\n",
            "131:\tlearn: 2.4126008\ttotal: 354ms\tremaining: 2.33s\n",
            "132:\tlearn: 2.4007934\ttotal: 356ms\tremaining: 2.32s\n",
            "133:\tlearn: 2.3869213\ttotal: 359ms\tremaining: 2.32s\n",
            "134:\tlearn: 2.3690066\ttotal: 361ms\tremaining: 2.31s\n",
            "135:\tlearn: 2.3484659\ttotal: 363ms\tremaining: 2.31s\n",
            "136:\tlearn: 2.3374449\ttotal: 367ms\tremaining: 2.31s\n",
            "137:\tlearn: 2.3293674\ttotal: 369ms\tremaining: 2.31s\n",
            "138:\tlearn: 2.3044604\ttotal: 372ms\tremaining: 2.3s\n",
            "139:\tlearn: 2.2962069\ttotal: 374ms\tremaining: 2.3s\n",
            "140:\tlearn: 2.2833967\ttotal: 377ms\tremaining: 2.29s\n",
            "141:\tlearn: 2.2622748\ttotal: 379ms\tremaining: 2.29s\n",
            "142:\tlearn: 2.2490559\ttotal: 384ms\tremaining: 2.3s\n",
            "143:\tlearn: 2.2385175\ttotal: 387ms\tremaining: 2.3s\n",
            "144:\tlearn: 2.2317441\ttotal: 389ms\tremaining: 2.29s\n",
            "145:\tlearn: 2.2240806\ttotal: 391ms\tremaining: 2.29s\n",
            "146:\tlearn: 2.2090898\ttotal: 394ms\tremaining: 2.28s\n",
            "147:\tlearn: 2.1963636\ttotal: 396ms\tremaining: 2.28s\n",
            "148:\tlearn: 2.1887052\ttotal: 398ms\tremaining: 2.27s\n",
            "149:\tlearn: 2.1767664\ttotal: 401ms\tremaining: 2.27s\n",
            "150:\tlearn: 2.1700998\ttotal: 403ms\tremaining: 2.27s\n",
            "151:\tlearn: 2.1539557\ttotal: 406ms\tremaining: 2.26s\n",
            "152:\tlearn: 2.1394342\ttotal: 409ms\tremaining: 2.26s\n",
            "153:\tlearn: 2.1296993\ttotal: 411ms\tremaining: 2.26s\n",
            "154:\tlearn: 2.1214994\ttotal: 414ms\tremaining: 2.25s\n",
            "155:\tlearn: 2.1091639\ttotal: 416ms\tremaining: 2.25s\n",
            "156:\tlearn: 2.0990134\ttotal: 418ms\tremaining: 2.25s\n",
            "157:\tlearn: 2.0914364\ttotal: 421ms\tremaining: 2.24s\n",
            "158:\tlearn: 2.0795598\ttotal: 423ms\tremaining: 2.24s\n",
            "159:\tlearn: 2.0683623\ttotal: 426ms\tremaining: 2.23s\n",
            "160:\tlearn: 2.0626073\ttotal: 428ms\tremaining: 2.23s\n",
            "161:\tlearn: 2.0552522\ttotal: 430ms\tremaining: 2.23s\n",
            "162:\tlearn: 2.0464698\ttotal: 433ms\tremaining: 2.22s\n",
            "163:\tlearn: 2.0374575\ttotal: 435ms\tremaining: 2.22s\n",
            "164:\tlearn: 2.0281535\ttotal: 438ms\tremaining: 2.21s\n",
            "165:\tlearn: 2.0184413\ttotal: 440ms\tremaining: 2.21s\n",
            "166:\tlearn: 2.0104260\ttotal: 442ms\tremaining: 2.21s\n",
            "167:\tlearn: 2.0055918\ttotal: 445ms\tremaining: 2.2s\n",
            "168:\tlearn: 1.9908173\ttotal: 447ms\tremaining: 2.2s\n",
            "169:\tlearn: 1.9840872\ttotal: 449ms\tremaining: 2.19s\n",
            "170:\tlearn: 1.9779690\ttotal: 452ms\tremaining: 2.19s\n",
            "171:\tlearn: 1.9661852\ttotal: 456ms\tremaining: 2.19s\n",
            "172:\tlearn: 1.9570927\ttotal: 458ms\tremaining: 2.19s\n",
            "173:\tlearn: 1.9503182\ttotal: 461ms\tremaining: 2.19s\n",
            "174:\tlearn: 1.9395346\ttotal: 464ms\tremaining: 2.19s\n",
            "175:\tlearn: 1.9298655\ttotal: 467ms\tremaining: 2.19s\n",
            "176:\tlearn: 1.9211854\ttotal: 470ms\tremaining: 2.18s\n",
            "177:\tlearn: 1.9104683\ttotal: 472ms\tremaining: 2.18s\n",
            "178:\tlearn: 1.8958670\ttotal: 475ms\tremaining: 2.18s\n",
            "179:\tlearn: 1.8824172\ttotal: 477ms\tremaining: 2.17s\n",
            "180:\tlearn: 1.8729357\ttotal: 480ms\tremaining: 2.17s\n",
            "181:\tlearn: 1.8658195\ttotal: 482ms\tremaining: 2.17s\n",
            "182:\tlearn: 1.8574487\ttotal: 485ms\tremaining: 2.16s\n",
            "183:\tlearn: 1.8405819\ttotal: 487ms\tremaining: 2.16s\n",
            "184:\tlearn: 1.8336409\ttotal: 490ms\tremaining: 2.16s\n",
            "185:\tlearn: 1.8214423\ttotal: 492ms\tremaining: 2.15s\n",
            "186:\tlearn: 1.8164749\ttotal: 495ms\tremaining: 2.15s\n",
            "187:\tlearn: 1.8067950\ttotal: 497ms\tremaining: 2.15s\n",
            "188:\tlearn: 1.8002675\ttotal: 499ms\tremaining: 2.14s\n",
            "189:\tlearn: 1.7898753\ttotal: 502ms\tremaining: 2.14s\n",
            "190:\tlearn: 1.7822063\ttotal: 504ms\tremaining: 2.14s\n",
            "191:\tlearn: 1.7744204\ttotal: 507ms\tremaining: 2.13s\n",
            "192:\tlearn: 1.7646101\ttotal: 510ms\tremaining: 2.13s\n",
            "193:\tlearn: 1.7581197\ttotal: 512ms\tremaining: 2.13s\n",
            "194:\tlearn: 1.7487237\ttotal: 515ms\tremaining: 2.12s\n",
            "195:\tlearn: 1.7425069\ttotal: 517ms\tremaining: 2.12s\n",
            "196:\tlearn: 1.7385363\ttotal: 520ms\tremaining: 2.12s\n",
            "197:\tlearn: 1.7304737\ttotal: 522ms\tremaining: 2.11s\n",
            "198:\tlearn: 1.7239167\ttotal: 524ms\tremaining: 2.11s\n",
            "199:\tlearn: 1.7170153\ttotal: 527ms\tremaining: 2.11s\n",
            "200:\tlearn: 1.7120759\ttotal: 529ms\tremaining: 2.1s\n",
            "201:\tlearn: 1.7031390\ttotal: 532ms\tremaining: 2.1s\n",
            "202:\tlearn: 1.6962683\ttotal: 534ms\tremaining: 2.1s\n",
            "203:\tlearn: 1.6886969\ttotal: 537ms\tremaining: 2.09s\n",
            "204:\tlearn: 1.6842244\ttotal: 539ms\tremaining: 2.09s\n",
            "205:\tlearn: 1.6782880\ttotal: 541ms\tremaining: 2.09s\n",
            "206:\tlearn: 1.6699170\ttotal: 544ms\tremaining: 2.08s\n",
            "207:\tlearn: 1.6642524\ttotal: 546ms\tremaining: 2.08s\n",
            "208:\tlearn: 1.6578311\ttotal: 548ms\tremaining: 2.08s\n",
            "209:\tlearn: 1.6497345\ttotal: 551ms\tremaining: 2.07s\n",
            "210:\tlearn: 1.6403006\ttotal: 553ms\tremaining: 2.07s\n",
            "211:\tlearn: 1.6327012\ttotal: 556ms\tremaining: 2.06s\n",
            "212:\tlearn: 1.6238332\ttotal: 558ms\tremaining: 2.06s\n",
            "213:\tlearn: 1.6145841\ttotal: 561ms\tremaining: 2.06s\n",
            "214:\tlearn: 1.6095824\ttotal: 563ms\tremaining: 2.06s\n",
            "215:\tlearn: 1.6037110\ttotal: 565ms\tremaining: 2.05s\n",
            "216:\tlearn: 1.5988822\ttotal: 568ms\tremaining: 2.05s\n",
            "217:\tlearn: 1.5928461\ttotal: 570ms\tremaining: 2.04s\n",
            "218:\tlearn: 1.5838489\ttotal: 574ms\tremaining: 2.05s\n",
            "219:\tlearn: 1.5782937\ttotal: 578ms\tremaining: 2.05s\n",
            "220:\tlearn: 1.5726199\ttotal: 580ms\tremaining: 2.04s\n",
            "221:\tlearn: 1.5654811\ttotal: 583ms\tremaining: 2.04s\n",
            "222:\tlearn: 1.5592634\ttotal: 585ms\tremaining: 2.04s\n",
            "223:\tlearn: 1.5547695\ttotal: 587ms\tremaining: 2.03s\n",
            "224:\tlearn: 1.5492761\ttotal: 590ms\tremaining: 2.03s\n",
            "225:\tlearn: 1.5435015\ttotal: 592ms\tremaining: 2.03s\n",
            "226:\tlearn: 1.5366089\ttotal: 595ms\tremaining: 2.02s\n",
            "227:\tlearn: 1.5304067\ttotal: 597ms\tremaining: 2.02s\n",
            "228:\tlearn: 1.5256372\ttotal: 599ms\tremaining: 2.02s\n",
            "229:\tlearn: 1.5196587\ttotal: 602ms\tremaining: 2.01s\n",
            "230:\tlearn: 1.5146953\ttotal: 604ms\tremaining: 2.01s\n",
            "231:\tlearn: 1.5104762\ttotal: 606ms\tremaining: 2.01s\n",
            "232:\tlearn: 1.5030074\ttotal: 609ms\tremaining: 2s\n",
            "233:\tlearn: 1.4973312\ttotal: 611ms\tremaining: 2s\n",
            "234:\tlearn: 1.4916788\ttotal: 613ms\tremaining: 2s\n",
            "235:\tlearn: 1.4863103\ttotal: 616ms\tremaining: 1.99s\n",
            "236:\tlearn: 1.4785108\ttotal: 618ms\tremaining: 1.99s\n",
            "237:\tlearn: 1.4734533\ttotal: 621ms\tremaining: 1.99s\n",
            "238:\tlearn: 1.4700532\ttotal: 625ms\tremaining: 1.99s\n",
            "239:\tlearn: 1.4665499\ttotal: 630ms\tremaining: 1.99s\n",
            "240:\tlearn: 1.4600633\ttotal: 632ms\tremaining: 1.99s\n",
            "241:\tlearn: 1.4546681\ttotal: 635ms\tremaining: 1.99s\n",
            "242:\tlearn: 1.4500549\ttotal: 637ms\tremaining: 1.98s\n",
            "243:\tlearn: 1.4453976\ttotal: 640ms\tremaining: 1.98s\n",
            "244:\tlearn: 1.4389554\ttotal: 642ms\tremaining: 1.98s\n",
            "245:\tlearn: 1.4341756\ttotal: 645ms\tremaining: 1.98s\n",
            "246:\tlearn: 1.4299819\ttotal: 647ms\tremaining: 1.97s\n",
            "247:\tlearn: 1.4254474\ttotal: 649ms\tremaining: 1.97s\n",
            "248:\tlearn: 1.4215903\ttotal: 652ms\tremaining: 1.96s\n",
            "249:\tlearn: 1.4170704\ttotal: 654ms\tremaining: 1.96s\n",
            "250:\tlearn: 1.4141902\ttotal: 656ms\tremaining: 1.96s\n",
            "251:\tlearn: 1.4079924\ttotal: 659ms\tremaining: 1.96s\n",
            "252:\tlearn: 1.4045382\ttotal: 661ms\tremaining: 1.95s\n",
            "253:\tlearn: 1.3977555\ttotal: 664ms\tremaining: 1.95s\n",
            "254:\tlearn: 1.3932216\ttotal: 666ms\tremaining: 1.95s\n",
            "255:\tlearn: 1.3879761\ttotal: 668ms\tremaining: 1.94s\n",
            "256:\tlearn: 1.3823623\ttotal: 672ms\tremaining: 1.94s\n",
            "257:\tlearn: 1.3770544\ttotal: 674ms\tremaining: 1.94s\n",
            "258:\tlearn: 1.3715924\ttotal: 676ms\tremaining: 1.94s\n",
            "259:\tlearn: 1.3680070\ttotal: 679ms\tremaining: 1.93s\n",
            "260:\tlearn: 1.3636342\ttotal: 681ms\tremaining: 1.93s\n",
            "261:\tlearn: 1.3596144\ttotal: 684ms\tremaining: 1.93s\n",
            "262:\tlearn: 1.3541079\ttotal: 686ms\tremaining: 1.92s\n",
            "263:\tlearn: 1.3507473\ttotal: 689ms\tremaining: 1.92s\n",
            "264:\tlearn: 1.3467092\ttotal: 691ms\tremaining: 1.92s\n",
            "265:\tlearn: 1.3428383\ttotal: 694ms\tremaining: 1.91s\n",
            "266:\tlearn: 1.3394998\ttotal: 696ms\tremaining: 1.91s\n",
            "267:\tlearn: 1.3372364\ttotal: 699ms\tremaining: 1.91s\n",
            "268:\tlearn: 1.3340421\ttotal: 701ms\tremaining: 1.9s\n",
            "269:\tlearn: 1.3306391\ttotal: 703ms\tremaining: 1.9s\n",
            "270:\tlearn: 1.3257876\ttotal: 706ms\tremaining: 1.9s\n",
            "271:\tlearn: 1.3203027\ttotal: 708ms\tremaining: 1.9s\n",
            "272:\tlearn: 1.3169646\ttotal: 711ms\tremaining: 1.89s\n",
            "273:\tlearn: 1.3122324\ttotal: 713ms\tremaining: 1.89s\n",
            "274:\tlearn: 1.3089375\ttotal: 716ms\tremaining: 1.89s\n",
            "275:\tlearn: 1.3030295\ttotal: 719ms\tremaining: 1.88s\n",
            "276:\tlearn: 1.2994067\ttotal: 721ms\tremaining: 1.88s\n",
            "277:\tlearn: 1.2968205\ttotal: 723ms\tremaining: 1.88s\n",
            "278:\tlearn: 1.2928522\ttotal: 726ms\tremaining: 1.88s\n",
            "279:\tlearn: 1.2896350\ttotal: 728ms\tremaining: 1.87s\n",
            "280:\tlearn: 1.2857221\ttotal: 731ms\tremaining: 1.87s\n",
            "281:\tlearn: 1.2801597\ttotal: 733ms\tremaining: 1.87s\n",
            "282:\tlearn: 1.2740518\ttotal: 736ms\tremaining: 1.86s\n",
            "283:\tlearn: 1.2707500\ttotal: 739ms\tremaining: 1.86s\n",
            "284:\tlearn: 1.2676402\ttotal: 741ms\tremaining: 1.86s\n",
            "285:\tlearn: 1.2643550\ttotal: 744ms\tremaining: 1.86s\n",
            "286:\tlearn: 1.2593786\ttotal: 746ms\tremaining: 1.85s\n",
            "287:\tlearn: 1.2544810\ttotal: 749ms\tremaining: 1.85s\n",
            "288:\tlearn: 1.2502391\ttotal: 751ms\tremaining: 1.85s\n",
            "289:\tlearn: 1.2474121\ttotal: 755ms\tremaining: 1.85s\n",
            "290:\tlearn: 1.2445492\ttotal: 757ms\tremaining: 1.84s\n",
            "291:\tlearn: 1.2402822\ttotal: 759ms\tremaining: 1.84s\n",
            "292:\tlearn: 1.2368195\ttotal: 762ms\tremaining: 1.84s\n",
            "293:\tlearn: 1.2338554\ttotal: 767ms\tremaining: 1.84s\n",
            "294:\tlearn: 1.2297988\ttotal: 770ms\tremaining: 1.84s\n",
            "295:\tlearn: 1.2269921\ttotal: 772ms\tremaining: 1.84s\n",
            "296:\tlearn: 1.2242925\ttotal: 775ms\tremaining: 1.83s\n",
            "297:\tlearn: 1.2216326\ttotal: 777ms\tremaining: 1.83s\n",
            "298:\tlearn: 1.2168735\ttotal: 780ms\tremaining: 1.83s\n",
            "299:\tlearn: 1.2139802\ttotal: 782ms\tremaining: 1.82s\n",
            "300:\tlearn: 1.2095328\ttotal: 785ms\tremaining: 1.82s\n",
            "301:\tlearn: 1.2059319\ttotal: 787ms\tremaining: 1.82s\n",
            "302:\tlearn: 1.2016851\ttotal: 790ms\tremaining: 1.82s\n",
            "303:\tlearn: 1.1980101\ttotal: 793ms\tremaining: 1.81s\n",
            "304:\tlearn: 1.1946334\ttotal: 795ms\tremaining: 1.81s\n",
            "305:\tlearn: 1.1903039\ttotal: 798ms\tremaining: 1.81s\n",
            "306:\tlearn: 1.1877925\ttotal: 800ms\tremaining: 1.8s\n",
            "307:\tlearn: 1.1836400\ttotal: 803ms\tremaining: 1.8s\n",
            "308:\tlearn: 1.1798650\ttotal: 805ms\tremaining: 1.8s\n",
            "309:\tlearn: 1.1778042\ttotal: 807ms\tremaining: 1.8s\n",
            "310:\tlearn: 1.1745677\ttotal: 810ms\tremaining: 1.79s\n",
            "311:\tlearn: 1.1716376\ttotal: 812ms\tremaining: 1.79s\n",
            "312:\tlearn: 1.1693082\ttotal: 815ms\tremaining: 1.79s\n",
            "313:\tlearn: 1.1656522\ttotal: 818ms\tremaining: 1.79s\n",
            "314:\tlearn: 1.1634232\ttotal: 820ms\tremaining: 1.78s\n",
            "315:\tlearn: 1.1604297\ttotal: 822ms\tremaining: 1.78s\n",
            "316:\tlearn: 1.1582728\ttotal: 825ms\tremaining: 1.78s\n",
            "317:\tlearn: 1.1550849\ttotal: 827ms\tremaining: 1.77s\n",
            "318:\tlearn: 1.1521936\ttotal: 830ms\tremaining: 1.77s\n",
            "319:\tlearn: 1.1496846\ttotal: 832ms\tremaining: 1.77s\n",
            "320:\tlearn: 1.1473370\ttotal: 835ms\tremaining: 1.76s\n",
            "321:\tlearn: 1.1441114\ttotal: 837ms\tremaining: 1.76s\n",
            "322:\tlearn: 1.1428172\ttotal: 840ms\tremaining: 1.76s\n",
            "323:\tlearn: 1.1408785\ttotal: 842ms\tremaining: 1.76s\n",
            "324:\tlearn: 1.1387600\ttotal: 844ms\tremaining: 1.75s\n",
            "325:\tlearn: 1.1367417\ttotal: 847ms\tremaining: 1.75s\n",
            "326:\tlearn: 1.1346032\ttotal: 849ms\tremaining: 1.75s\n",
            "327:\tlearn: 1.1312055\ttotal: 852ms\tremaining: 1.74s\n",
            "328:\tlearn: 1.1299431\ttotal: 854ms\tremaining: 1.74s\n",
            "329:\tlearn: 1.1267596\ttotal: 857ms\tremaining: 1.74s\n",
            "330:\tlearn: 1.1250649\ttotal: 859ms\tremaining: 1.74s\n",
            "331:\tlearn: 1.1230895\ttotal: 862ms\tremaining: 1.73s\n",
            "332:\tlearn: 1.1214517\ttotal: 864ms\tremaining: 1.73s\n",
            "333:\tlearn: 1.1186801\ttotal: 866ms\tremaining: 1.73s\n",
            "334:\tlearn: 1.1155032\ttotal: 869ms\tremaining: 1.73s\n",
            "335:\tlearn: 1.1132804\ttotal: 873ms\tremaining: 1.73s\n",
            "336:\tlearn: 1.1114130\ttotal: 875ms\tremaining: 1.72s\n",
            "337:\tlearn: 1.1071696\ttotal: 878ms\tremaining: 1.72s\n",
            "338:\tlearn: 1.1031822\ttotal: 880ms\tremaining: 1.72s\n",
            "339:\tlearn: 1.0991885\ttotal: 883ms\tremaining: 1.71s\n",
            "340:\tlearn: 1.0982348\ttotal: 885ms\tremaining: 1.71s\n",
            "341:\tlearn: 1.0965810\ttotal: 888ms\tremaining: 1.71s\n",
            "342:\tlearn: 1.0945490\ttotal: 890ms\tremaining: 1.7s\n",
            "343:\tlearn: 1.0914405\ttotal: 893ms\tremaining: 1.7s\n",
            "344:\tlearn: 1.0899879\ttotal: 895ms\tremaining: 1.7s\n",
            "345:\tlearn: 1.0878370\ttotal: 897ms\tremaining: 1.7s\n",
            "346:\tlearn: 1.0860718\ttotal: 900ms\tremaining: 1.69s\n",
            "347:\tlearn: 1.0829031\ttotal: 902ms\tremaining: 1.69s\n",
            "348:\tlearn: 1.0808657\ttotal: 905ms\tremaining: 1.69s\n",
            "349:\tlearn: 1.0786374\ttotal: 907ms\tremaining: 1.68s\n",
            "350:\tlearn: 1.0762502\ttotal: 910ms\tremaining: 1.68s\n",
            "351:\tlearn: 1.0726235\ttotal: 912ms\tremaining: 1.68s\n",
            "352:\tlearn: 1.0694565\ttotal: 915ms\tremaining: 1.68s\n",
            "353:\tlearn: 1.0677605\ttotal: 917ms\tremaining: 1.67s\n",
            "354:\tlearn: 1.0656324\ttotal: 920ms\tremaining: 1.67s\n",
            "355:\tlearn: 1.0635458\ttotal: 922ms\tremaining: 1.67s\n",
            "356:\tlearn: 1.0618428\ttotal: 924ms\tremaining: 1.67s\n",
            "357:\tlearn: 1.0594731\ttotal: 927ms\tremaining: 1.66s\n",
            "358:\tlearn: 1.0565696\ttotal: 930ms\tremaining: 1.66s\n",
            "359:\tlearn: 1.0544034\ttotal: 932ms\tremaining: 1.66s\n",
            "360:\tlearn: 1.0514676\ttotal: 934ms\tremaining: 1.65s\n",
            "361:\tlearn: 1.0483991\ttotal: 937ms\tremaining: 1.65s\n",
            "362:\tlearn: 1.0441963\ttotal: 940ms\tremaining: 1.65s\n",
            "363:\tlearn: 1.0418163\ttotal: 942ms\tremaining: 1.65s\n",
            "364:\tlearn: 1.0397071\ttotal: 944ms\tremaining: 1.64s\n",
            "365:\tlearn: 1.0362675\ttotal: 947ms\tremaining: 1.64s\n",
            "366:\tlearn: 1.0345114\ttotal: 949ms\tremaining: 1.64s\n",
            "367:\tlearn: 1.0332937\ttotal: 952ms\tremaining: 1.63s\n",
            "368:\tlearn: 1.0305641\ttotal: 954ms\tremaining: 1.63s\n",
            "369:\tlearn: 1.0290224\ttotal: 956ms\tremaining: 1.63s\n",
            "370:\tlearn: 1.0274161\ttotal: 960ms\tremaining: 1.63s\n",
            "371:\tlearn: 1.0259134\ttotal: 963ms\tremaining: 1.62s\n",
            "372:\tlearn: 1.0241023\ttotal: 965ms\tremaining: 1.62s\n",
            "373:\tlearn: 1.0219307\ttotal: 967ms\tremaining: 1.62s\n",
            "374:\tlearn: 1.0207882\ttotal: 970ms\tremaining: 1.61s\n",
            "375:\tlearn: 1.0192946\ttotal: 974ms\tremaining: 1.62s\n",
            "376:\tlearn: 1.0166993\ttotal: 977ms\tremaining: 1.61s\n",
            "377:\tlearn: 1.0153167\ttotal: 979ms\tremaining: 1.61s\n",
            "378:\tlearn: 1.0136789\ttotal: 981ms\tremaining: 1.61s\n",
            "379:\tlearn: 1.0111372\ttotal: 984ms\tremaining: 1.6s\n",
            "380:\tlearn: 1.0094988\ttotal: 987ms\tremaining: 1.6s\n",
            "381:\tlearn: 1.0070975\ttotal: 990ms\tremaining: 1.6s\n",
            "382:\tlearn: 1.0049652\ttotal: 992ms\tremaining: 1.6s\n",
            "383:\tlearn: 1.0036294\ttotal: 995ms\tremaining: 1.59s\n",
            "384:\tlearn: 1.0015485\ttotal: 997ms\tremaining: 1.59s\n",
            "385:\tlearn: 0.9996701\ttotal: 1000ms\tremaining: 1.59s\n",
            "386:\tlearn: 0.9981308\ttotal: 1s\tremaining: 1.59s\n",
            "387:\tlearn: 0.9962041\ttotal: 1s\tremaining: 1.58s\n",
            "388:\tlearn: 0.9930923\ttotal: 1.01s\tremaining: 1.58s\n",
            "389:\tlearn: 0.9915603\ttotal: 1.01s\tremaining: 1.58s\n",
            "390:\tlearn: 0.9898122\ttotal: 1.01s\tremaining: 1.58s\n",
            "391:\tlearn: 0.9878400\ttotal: 1.01s\tremaining: 1.57s\n",
            "392:\tlearn: 0.9867313\ttotal: 1.02s\tremaining: 1.57s\n",
            "393:\tlearn: 0.9841771\ttotal: 1.02s\tremaining: 1.57s\n",
            "394:\tlearn: 0.9818242\ttotal: 1.02s\tremaining: 1.57s\n",
            "395:\tlearn: 0.9800758\ttotal: 1.03s\tremaining: 1.57s\n",
            "396:\tlearn: 0.9788041\ttotal: 1.03s\tremaining: 1.57s\n",
            "397:\tlearn: 0.9769738\ttotal: 1.03s\tremaining: 1.56s\n",
            "398:\tlearn: 0.9755622\ttotal: 1.04s\tremaining: 1.56s\n",
            "399:\tlearn: 0.9738278\ttotal: 1.04s\tremaining: 1.56s\n",
            "400:\tlearn: 0.9707365\ttotal: 1.04s\tremaining: 1.55s\n",
            "401:\tlearn: 0.9697217\ttotal: 1.04s\tremaining: 1.55s\n",
            "402:\tlearn: 0.9682453\ttotal: 1.05s\tremaining: 1.55s\n",
            "403:\tlearn: 0.9670382\ttotal: 1.05s\tremaining: 1.55s\n",
            "404:\tlearn: 0.9647800\ttotal: 1.05s\tremaining: 1.55s\n",
            "405:\tlearn: 0.9631063\ttotal: 1.06s\tremaining: 1.55s\n",
            "406:\tlearn: 0.9618503\ttotal: 1.06s\tremaining: 1.55s\n",
            "407:\tlearn: 0.9604838\ttotal: 1.07s\tremaining: 1.55s\n",
            "408:\tlearn: 0.9575274\ttotal: 1.07s\tremaining: 1.55s\n",
            "409:\tlearn: 0.9535535\ttotal: 1.08s\tremaining: 1.55s\n",
            "410:\tlearn: 0.9512918\ttotal: 1.08s\tremaining: 1.55s\n",
            "411:\tlearn: 0.9495051\ttotal: 1.08s\tremaining: 1.54s\n",
            "412:\tlearn: 0.9468596\ttotal: 1.08s\tremaining: 1.54s\n",
            "413:\tlearn: 0.9446850\ttotal: 1.09s\tremaining: 1.54s\n",
            "414:\tlearn: 0.9419526\ttotal: 1.09s\tremaining: 1.54s\n",
            "415:\tlearn: 0.9410056\ttotal: 1.09s\tremaining: 1.53s\n",
            "416:\tlearn: 0.9398759\ttotal: 1.09s\tremaining: 1.53s\n",
            "417:\tlearn: 0.9377019\ttotal: 1.1s\tremaining: 1.53s\n",
            "418:\tlearn: 0.9366814\ttotal: 1.1s\tremaining: 1.53s\n",
            "419:\tlearn: 0.9358567\ttotal: 1.1s\tremaining: 1.52s\n",
            "420:\tlearn: 0.9349529\ttotal: 1.1s\tremaining: 1.52s\n",
            "421:\tlearn: 0.9340566\ttotal: 1.11s\tremaining: 1.52s\n",
            "422:\tlearn: 0.9326563\ttotal: 1.11s\tremaining: 1.51s\n",
            "423:\tlearn: 0.9319374\ttotal: 1.11s\tremaining: 1.51s\n",
            "424:\tlearn: 0.9296908\ttotal: 1.11s\tremaining: 1.51s\n",
            "425:\tlearn: 0.9264132\ttotal: 1.12s\tremaining: 1.51s\n",
            "426:\tlearn: 0.9246152\ttotal: 1.12s\tremaining: 1.5s\n",
            "427:\tlearn: 0.9229751\ttotal: 1.12s\tremaining: 1.5s\n",
            "428:\tlearn: 0.9211885\ttotal: 1.13s\tremaining: 1.5s\n",
            "429:\tlearn: 0.9199025\ttotal: 1.13s\tremaining: 1.5s\n",
            "430:\tlearn: 0.9187308\ttotal: 1.13s\tremaining: 1.49s\n",
            "431:\tlearn: 0.9171996\ttotal: 1.13s\tremaining: 1.49s\n",
            "432:\tlearn: 0.9159314\ttotal: 1.14s\tremaining: 1.49s\n",
            "433:\tlearn: 0.9142695\ttotal: 1.14s\tremaining: 1.48s\n",
            "434:\tlearn: 0.9134511\ttotal: 1.14s\tremaining: 1.48s\n",
            "435:\tlearn: 0.9120402\ttotal: 1.14s\tremaining: 1.48s\n",
            "436:\tlearn: 0.9100760\ttotal: 1.15s\tremaining: 1.48s\n",
            "437:\tlearn: 0.9083245\ttotal: 1.15s\tremaining: 1.48s\n",
            "438:\tlearn: 0.9059703\ttotal: 1.15s\tremaining: 1.47s\n",
            "439:\tlearn: 0.9052736\ttotal: 1.15s\tremaining: 1.47s\n",
            "440:\tlearn: 0.9032884\ttotal: 1.16s\tremaining: 1.47s\n",
            "441:\tlearn: 0.9012798\ttotal: 1.16s\tremaining: 1.46s\n",
            "442:\tlearn: 0.8994825\ttotal: 1.16s\tremaining: 1.46s\n",
            "443:\tlearn: 0.8978520\ttotal: 1.16s\tremaining: 1.46s\n",
            "444:\tlearn: 0.8960720\ttotal: 1.17s\tremaining: 1.46s\n",
            "445:\tlearn: 0.8945883\ttotal: 1.17s\tremaining: 1.45s\n",
            "446:\tlearn: 0.8928480\ttotal: 1.17s\tremaining: 1.45s\n",
            "447:\tlearn: 0.8918233\ttotal: 1.17s\tremaining: 1.45s\n",
            "448:\tlearn: 0.8899056\ttotal: 1.18s\tremaining: 1.44s\n",
            "449:\tlearn: 0.8885494\ttotal: 1.18s\tremaining: 1.44s\n",
            "450:\tlearn: 0.8874321\ttotal: 1.18s\tremaining: 1.44s\n",
            "451:\tlearn: 0.8858510\ttotal: 1.18s\tremaining: 1.44s\n",
            "452:\tlearn: 0.8848651\ttotal: 1.19s\tremaining: 1.43s\n",
            "453:\tlearn: 0.8828310\ttotal: 1.19s\tremaining: 1.43s\n",
            "454:\tlearn: 0.8813993\ttotal: 1.19s\tremaining: 1.43s\n",
            "455:\tlearn: 0.8801266\ttotal: 1.19s\tremaining: 1.42s\n",
            "456:\tlearn: 0.8791347\ttotal: 1.2s\tremaining: 1.42s\n",
            "457:\tlearn: 0.8772243\ttotal: 1.2s\tremaining: 1.42s\n",
            "458:\tlearn: 0.8754185\ttotal: 1.2s\tremaining: 1.42s\n",
            "459:\tlearn: 0.8740974\ttotal: 1.2s\tremaining: 1.41s\n",
            "460:\tlearn: 0.8729682\ttotal: 1.21s\tremaining: 1.41s\n",
            "461:\tlearn: 0.8716571\ttotal: 1.21s\tremaining: 1.41s\n",
            "462:\tlearn: 0.8704448\ttotal: 1.21s\tremaining: 1.41s\n",
            "463:\tlearn: 0.8685667\ttotal: 1.21s\tremaining: 1.4s\n",
            "464:\tlearn: 0.8676265\ttotal: 1.22s\tremaining: 1.4s\n",
            "465:\tlearn: 0.8656282\ttotal: 1.22s\tremaining: 1.4s\n",
            "466:\tlearn: 0.8639842\ttotal: 1.22s\tremaining: 1.39s\n",
            "467:\tlearn: 0.8626383\ttotal: 1.22s\tremaining: 1.39s\n",
            "468:\tlearn: 0.8608968\ttotal: 1.23s\tremaining: 1.39s\n",
            "469:\tlearn: 0.8598480\ttotal: 1.23s\tremaining: 1.39s\n",
            "470:\tlearn: 0.8591636\ttotal: 1.23s\tremaining: 1.39s\n",
            "471:\tlearn: 0.8580575\ttotal: 1.24s\tremaining: 1.38s\n",
            "472:\tlearn: 0.8568720\ttotal: 1.24s\tremaining: 1.38s\n",
            "473:\tlearn: 0.8554871\ttotal: 1.24s\tremaining: 1.38s\n",
            "474:\tlearn: 0.8528692\ttotal: 1.24s\tremaining: 1.37s\n",
            "475:\tlearn: 0.8515469\ttotal: 1.25s\tremaining: 1.37s\n",
            "476:\tlearn: 0.8501762\ttotal: 1.25s\tremaining: 1.37s\n",
            "477:\tlearn: 0.8489761\ttotal: 1.25s\tremaining: 1.36s\n",
            "478:\tlearn: 0.8469262\ttotal: 1.25s\tremaining: 1.36s\n",
            "479:\tlearn: 0.8454164\ttotal: 1.25s\tremaining: 1.36s\n",
            "480:\tlearn: 0.8442877\ttotal: 1.26s\tremaining: 1.36s\n",
            "481:\tlearn: 0.8429550\ttotal: 1.26s\tremaining: 1.35s\n",
            "482:\tlearn: 0.8414709\ttotal: 1.26s\tremaining: 1.35s\n",
            "483:\tlearn: 0.8403634\ttotal: 1.26s\tremaining: 1.35s\n",
            "484:\tlearn: 0.8388019\ttotal: 1.27s\tremaining: 1.35s\n",
            "485:\tlearn: 0.8373119\ttotal: 1.27s\tremaining: 1.34s\n",
            "486:\tlearn: 0.8365778\ttotal: 1.27s\tremaining: 1.34s\n",
            "487:\tlearn: 0.8360833\ttotal: 1.27s\tremaining: 1.34s\n",
            "488:\tlearn: 0.8349527\ttotal: 1.28s\tremaining: 1.33s\n",
            "489:\tlearn: 0.8338085\ttotal: 1.28s\tremaining: 1.33s\n",
            "490:\tlearn: 0.8330900\ttotal: 1.28s\tremaining: 1.33s\n",
            "491:\tlearn: 0.8311225\ttotal: 1.28s\tremaining: 1.33s\n",
            "492:\tlearn: 0.8301135\ttotal: 1.29s\tremaining: 1.32s\n",
            "493:\tlearn: 0.8289932\ttotal: 1.29s\tremaining: 1.32s\n",
            "494:\tlearn: 0.8273035\ttotal: 1.29s\tremaining: 1.32s\n",
            "495:\tlearn: 0.8267552\ttotal: 1.29s\tremaining: 1.32s\n",
            "496:\tlearn: 0.8251806\ttotal: 1.3s\tremaining: 1.31s\n",
            "497:\tlearn: 0.8235950\ttotal: 1.3s\tremaining: 1.31s\n",
            "498:\tlearn: 0.8223388\ttotal: 1.3s\tremaining: 1.31s\n",
            "499:\tlearn: 0.8207215\ttotal: 1.3s\tremaining: 1.3s\n",
            "500:\tlearn: 0.8192575\ttotal: 1.31s\tremaining: 1.3s\n",
            "501:\tlearn: 0.8182034\ttotal: 1.31s\tremaining: 1.3s\n",
            "502:\tlearn: 0.8171835\ttotal: 1.31s\tremaining: 1.3s\n",
            "503:\tlearn: 0.8166549\ttotal: 1.31s\tremaining: 1.29s\n",
            "504:\tlearn: 0.8147569\ttotal: 1.32s\tremaining: 1.29s\n",
            "505:\tlearn: 0.8142711\ttotal: 1.32s\tremaining: 1.29s\n",
            "506:\tlearn: 0.8135438\ttotal: 1.32s\tremaining: 1.29s\n",
            "507:\tlearn: 0.8125524\ttotal: 1.32s\tremaining: 1.28s\n",
            "508:\tlearn: 0.8111610\ttotal: 1.33s\tremaining: 1.28s\n",
            "509:\tlearn: 0.8101915\ttotal: 1.33s\tremaining: 1.28s\n",
            "510:\tlearn: 0.8089990\ttotal: 1.33s\tremaining: 1.27s\n",
            "511:\tlearn: 0.8084592\ttotal: 1.33s\tremaining: 1.27s\n",
            "512:\tlearn: 0.8073637\ttotal: 1.34s\tremaining: 1.27s\n",
            "513:\tlearn: 0.8058296\ttotal: 1.34s\tremaining: 1.27s\n",
            "514:\tlearn: 0.8052663\ttotal: 1.34s\tremaining: 1.27s\n",
            "515:\tlearn: 0.8033707\ttotal: 1.35s\tremaining: 1.26s\n",
            "516:\tlearn: 0.8029524\ttotal: 1.35s\tremaining: 1.26s\n",
            "517:\tlearn: 0.8022381\ttotal: 1.35s\tremaining: 1.26s\n",
            "518:\tlearn: 0.8007072\ttotal: 1.35s\tremaining: 1.26s\n",
            "519:\tlearn: 0.7989383\ttotal: 1.36s\tremaining: 1.25s\n",
            "520:\tlearn: 0.7977949\ttotal: 1.36s\tremaining: 1.25s\n",
            "521:\tlearn: 0.7968767\ttotal: 1.36s\tremaining: 1.25s\n",
            "522:\tlearn: 0.7961791\ttotal: 1.36s\tremaining: 1.25s\n",
            "523:\tlearn: 0.7954286\ttotal: 1.37s\tremaining: 1.24s\n",
            "524:\tlearn: 0.7945844\ttotal: 1.37s\tremaining: 1.24s\n",
            "525:\tlearn: 0.7935687\ttotal: 1.37s\tremaining: 1.24s\n",
            "526:\tlearn: 0.7924418\ttotal: 1.38s\tremaining: 1.23s\n",
            "527:\tlearn: 0.7912764\ttotal: 1.38s\tremaining: 1.23s\n",
            "528:\tlearn: 0.7904371\ttotal: 1.38s\tremaining: 1.23s\n",
            "529:\tlearn: 0.7895163\ttotal: 1.38s\tremaining: 1.23s\n",
            "530:\tlearn: 0.7886435\ttotal: 1.38s\tremaining: 1.22s\n",
            "531:\tlearn: 0.7880444\ttotal: 1.39s\tremaining: 1.22s\n",
            "532:\tlearn: 0.7869130\ttotal: 1.39s\tremaining: 1.22s\n",
            "533:\tlearn: 0.7855198\ttotal: 1.39s\tremaining: 1.22s\n",
            "534:\tlearn: 0.7843245\ttotal: 1.4s\tremaining: 1.21s\n",
            "535:\tlearn: 0.7832259\ttotal: 1.4s\tremaining: 1.21s\n",
            "536:\tlearn: 0.7825106\ttotal: 1.4s\tremaining: 1.21s\n",
            "537:\tlearn: 0.7818640\ttotal: 1.41s\tremaining: 1.21s\n",
            "538:\tlearn: 0.7803889\ttotal: 1.41s\tremaining: 1.21s\n",
            "539:\tlearn: 0.7797008\ttotal: 1.41s\tremaining: 1.2s\n",
            "540:\tlearn: 0.7789944\ttotal: 1.41s\tremaining: 1.2s\n",
            "541:\tlearn: 0.7780725\ttotal: 1.42s\tremaining: 1.2s\n",
            "542:\tlearn: 0.7769494\ttotal: 1.42s\tremaining: 1.19s\n",
            "543:\tlearn: 0.7759637\ttotal: 1.42s\tremaining: 1.19s\n",
            "544:\tlearn: 0.7751293\ttotal: 1.42s\tremaining: 1.19s\n",
            "545:\tlearn: 0.7738914\ttotal: 1.43s\tremaining: 1.19s\n",
            "546:\tlearn: 0.7729659\ttotal: 1.43s\tremaining: 1.19s\n",
            "547:\tlearn: 0.7712956\ttotal: 1.43s\tremaining: 1.18s\n",
            "548:\tlearn: 0.7706218\ttotal: 1.44s\tremaining: 1.18s\n",
            "549:\tlearn: 0.7697349\ttotal: 1.44s\tremaining: 1.18s\n",
            "550:\tlearn: 0.7688079\ttotal: 1.44s\tremaining: 1.17s\n",
            "551:\tlearn: 0.7675629\ttotal: 1.44s\tremaining: 1.17s\n",
            "552:\tlearn: 0.7657967\ttotal: 1.45s\tremaining: 1.17s\n",
            "553:\tlearn: 0.7649046\ttotal: 1.45s\tremaining: 1.17s\n",
            "554:\tlearn: 0.7643491\ttotal: 1.45s\tremaining: 1.16s\n",
            "555:\tlearn: 0.7635705\ttotal: 1.45s\tremaining: 1.16s\n",
            "556:\tlearn: 0.7628996\ttotal: 1.46s\tremaining: 1.16s\n",
            "557:\tlearn: 0.7618741\ttotal: 1.46s\tremaining: 1.16s\n",
            "558:\tlearn: 0.7610021\ttotal: 1.46s\tremaining: 1.15s\n",
            "559:\tlearn: 0.7597723\ttotal: 1.46s\tremaining: 1.15s\n",
            "560:\tlearn: 0.7587191\ttotal: 1.47s\tremaining: 1.15s\n",
            "561:\tlearn: 0.7572306\ttotal: 1.47s\tremaining: 1.14s\n",
            "562:\tlearn: 0.7569992\ttotal: 1.47s\tremaining: 1.14s\n",
            "563:\tlearn: 0.7558784\ttotal: 1.47s\tremaining: 1.14s\n",
            "564:\tlearn: 0.7554233\ttotal: 1.48s\tremaining: 1.14s\n",
            "565:\tlearn: 0.7546580\ttotal: 1.48s\tremaining: 1.13s\n",
            "566:\tlearn: 0.7539625\ttotal: 1.48s\tremaining: 1.13s\n",
            "567:\tlearn: 0.7520429\ttotal: 1.48s\tremaining: 1.13s\n",
            "568:\tlearn: 0.7506991\ttotal: 1.49s\tremaining: 1.13s\n",
            "569:\tlearn: 0.7501513\ttotal: 1.49s\tremaining: 1.12s\n",
            "570:\tlearn: 0.7489043\ttotal: 1.49s\tremaining: 1.12s\n",
            "571:\tlearn: 0.7479554\ttotal: 1.49s\tremaining: 1.12s\n",
            "572:\tlearn: 0.7465396\ttotal: 1.5s\tremaining: 1.11s\n",
            "573:\tlearn: 0.7452614\ttotal: 1.5s\tremaining: 1.11s\n",
            "574:\tlearn: 0.7441931\ttotal: 1.5s\tremaining: 1.11s\n",
            "575:\tlearn: 0.7433043\ttotal: 1.5s\tremaining: 1.11s\n",
            "576:\tlearn: 0.7422593\ttotal: 1.5s\tremaining: 1.1s\n",
            "577:\tlearn: 0.7416847\ttotal: 1.51s\tremaining: 1.1s\n",
            "578:\tlearn: 0.7407413\ttotal: 1.51s\tremaining: 1.1s\n",
            "579:\tlearn: 0.7399732\ttotal: 1.51s\tremaining: 1.09s\n",
            "580:\tlearn: 0.7386636\ttotal: 1.51s\tremaining: 1.09s\n",
            "581:\tlearn: 0.7378203\ttotal: 1.52s\tremaining: 1.09s\n",
            "582:\tlearn: 0.7374415\ttotal: 1.52s\tremaining: 1.09s\n",
            "583:\tlearn: 0.7368409\ttotal: 1.52s\tremaining: 1.08s\n",
            "584:\tlearn: 0.7358902\ttotal: 1.52s\tremaining: 1.08s\n",
            "585:\tlearn: 0.7354662\ttotal: 1.53s\tremaining: 1.08s\n",
            "586:\tlearn: 0.7347356\ttotal: 1.53s\tremaining: 1.08s\n",
            "587:\tlearn: 0.7335994\ttotal: 1.53s\tremaining: 1.08s\n",
            "588:\tlearn: 0.7327938\ttotal: 1.54s\tremaining: 1.07s\n",
            "589:\tlearn: 0.7322088\ttotal: 1.54s\tremaining: 1.07s\n",
            "590:\tlearn: 0.7313866\ttotal: 1.54s\tremaining: 1.07s\n",
            "591:\tlearn: 0.7300623\ttotal: 1.54s\tremaining: 1.06s\n",
            "592:\tlearn: 0.7292215\ttotal: 1.55s\tremaining: 1.06s\n",
            "593:\tlearn: 0.7283633\ttotal: 1.55s\tremaining: 1.06s\n",
            "594:\tlearn: 0.7278538\ttotal: 1.55s\tremaining: 1.06s\n",
            "595:\tlearn: 0.7268283\ttotal: 1.55s\tremaining: 1.05s\n",
            "596:\tlearn: 0.7260415\ttotal: 1.56s\tremaining: 1.05s\n",
            "597:\tlearn: 0.7245554\ttotal: 1.56s\tremaining: 1.05s\n",
            "598:\tlearn: 0.7236676\ttotal: 1.56s\tremaining: 1.05s\n",
            "599:\tlearn: 0.7230446\ttotal: 1.56s\tremaining: 1.04s\n",
            "600:\tlearn: 0.7217724\ttotal: 1.57s\tremaining: 1.04s\n",
            "601:\tlearn: 0.7209647\ttotal: 1.57s\tremaining: 1.04s\n",
            "602:\tlearn: 0.7205510\ttotal: 1.57s\tremaining: 1.03s\n",
            "603:\tlearn: 0.7195119\ttotal: 1.57s\tremaining: 1.03s\n",
            "604:\tlearn: 0.7182760\ttotal: 1.58s\tremaining: 1.03s\n",
            "605:\tlearn: 0.7171395\ttotal: 1.58s\tremaining: 1.03s\n",
            "606:\tlearn: 0.7158049\ttotal: 1.58s\tremaining: 1.02s\n",
            "607:\tlearn: 0.7155844\ttotal: 1.58s\tremaining: 1.02s\n",
            "608:\tlearn: 0.7139283\ttotal: 1.59s\tremaining: 1.02s\n",
            "609:\tlearn: 0.7130372\ttotal: 1.59s\tremaining: 1.02s\n",
            "610:\tlearn: 0.7121274\ttotal: 1.59s\tremaining: 1.01s\n",
            "611:\tlearn: 0.7112159\ttotal: 1.59s\tremaining: 1.01s\n",
            "612:\tlearn: 0.7106257\ttotal: 1.6s\tremaining: 1.01s\n",
            "613:\tlearn: 0.7097955\ttotal: 1.6s\tremaining: 1.01s\n",
            "614:\tlearn: 0.7087587\ttotal: 1.6s\tremaining: 1s\n",
            "615:\tlearn: 0.7079259\ttotal: 1.6s\tremaining: 1s\n",
            "616:\tlearn: 0.7074974\ttotal: 1.61s\tremaining: 999ms\n",
            "617:\tlearn: 0.7065663\ttotal: 1.61s\tremaining: 996ms\n",
            "618:\tlearn: 0.7060591\ttotal: 1.61s\tremaining: 993ms\n",
            "619:\tlearn: 0.7054905\ttotal: 1.61s\tremaining: 990ms\n",
            "620:\tlearn: 0.7040168\ttotal: 1.62s\tremaining: 988ms\n",
            "621:\tlearn: 0.7029743\ttotal: 1.62s\tremaining: 985ms\n",
            "622:\tlearn: 0.7021937\ttotal: 1.62s\tremaining: 982ms\n",
            "623:\tlearn: 0.7007863\ttotal: 1.63s\tremaining: 980ms\n",
            "624:\tlearn: 0.7001490\ttotal: 1.63s\tremaining: 977ms\n",
            "625:\tlearn: 0.6998297\ttotal: 1.63s\tremaining: 974ms\n",
            "626:\tlearn: 0.6986212\ttotal: 1.63s\tremaining: 972ms\n",
            "627:\tlearn: 0.6971400\ttotal: 1.64s\tremaining: 969ms\n",
            "628:\tlearn: 0.6958612\ttotal: 1.64s\tremaining: 967ms\n",
            "629:\tlearn: 0.6946838\ttotal: 1.64s\tremaining: 965ms\n",
            "630:\tlearn: 0.6933266\ttotal: 1.64s\tremaining: 962ms\n",
            "631:\tlearn: 0.6925689\ttotal: 1.65s\tremaining: 959ms\n",
            "632:\tlearn: 0.6914844\ttotal: 1.65s\tremaining: 957ms\n",
            "633:\tlearn: 0.6907874\ttotal: 1.65s\tremaining: 954ms\n",
            "634:\tlearn: 0.6895230\ttotal: 1.65s\tremaining: 951ms\n",
            "635:\tlearn: 0.6889350\ttotal: 1.66s\tremaining: 948ms\n",
            "636:\tlearn: 0.6881480\ttotal: 1.66s\tremaining: 946ms\n",
            "637:\tlearn: 0.6873907\ttotal: 1.66s\tremaining: 943ms\n",
            "638:\tlearn: 0.6864231\ttotal: 1.66s\tremaining: 940ms\n",
            "639:\tlearn: 0.6859227\ttotal: 1.67s\tremaining: 938ms\n",
            "640:\tlearn: 0.6854316\ttotal: 1.67s\tremaining: 935ms\n",
            "641:\tlearn: 0.6847850\ttotal: 1.67s\tremaining: 932ms\n",
            "642:\tlearn: 0.6836339\ttotal: 1.67s\tremaining: 930ms\n",
            "643:\tlearn: 0.6829767\ttotal: 1.68s\tremaining: 927ms\n",
            "644:\tlearn: 0.6824094\ttotal: 1.68s\tremaining: 925ms\n",
            "645:\tlearn: 0.6818532\ttotal: 1.68s\tremaining: 922ms\n",
            "646:\tlearn: 0.6814303\ttotal: 1.69s\tremaining: 920ms\n",
            "647:\tlearn: 0.6802327\ttotal: 1.69s\tremaining: 917ms\n",
            "648:\tlearn: 0.6792643\ttotal: 1.69s\tremaining: 914ms\n",
            "649:\tlearn: 0.6786473\ttotal: 1.69s\tremaining: 912ms\n",
            "650:\tlearn: 0.6782672\ttotal: 1.7s\tremaining: 909ms\n",
            "651:\tlearn: 0.6774557\ttotal: 1.7s\tremaining: 906ms\n",
            "652:\tlearn: 0.6763599\ttotal: 1.7s\tremaining: 904ms\n",
            "653:\tlearn: 0.6760031\ttotal: 1.7s\tremaining: 901ms\n",
            "654:\tlearn: 0.6755252\ttotal: 1.71s\tremaining: 898ms\n",
            "655:\tlearn: 0.6750413\ttotal: 1.71s\tremaining: 896ms\n",
            "656:\tlearn: 0.6746022\ttotal: 1.71s\tremaining: 893ms\n",
            "657:\tlearn: 0.6739138\ttotal: 1.71s\tremaining: 890ms\n",
            "658:\tlearn: 0.6733745\ttotal: 1.72s\tremaining: 887ms\n",
            "659:\tlearn: 0.6721820\ttotal: 1.72s\tremaining: 885ms\n",
            "660:\tlearn: 0.6713292\ttotal: 1.72s\tremaining: 882ms\n",
            "661:\tlearn: 0.6703736\ttotal: 1.72s\tremaining: 880ms\n",
            "662:\tlearn: 0.6701067\ttotal: 1.73s\tremaining: 878ms\n",
            "663:\tlearn: 0.6692954\ttotal: 1.73s\tremaining: 876ms\n",
            "664:\tlearn: 0.6688551\ttotal: 1.73s\tremaining: 873ms\n",
            "665:\tlearn: 0.6685120\ttotal: 1.74s\tremaining: 871ms\n",
            "666:\tlearn: 0.6678664\ttotal: 1.74s\tremaining: 868ms\n",
            "667:\tlearn: 0.6672072\ttotal: 1.74s\tremaining: 865ms\n",
            "668:\tlearn: 0.6661995\ttotal: 1.74s\tremaining: 863ms\n",
            "669:\tlearn: 0.6656401\ttotal: 1.75s\tremaining: 860ms\n",
            "670:\tlearn: 0.6646295\ttotal: 1.75s\tremaining: 857ms\n",
            "671:\tlearn: 0.6638730\ttotal: 1.75s\tremaining: 855ms\n",
            "672:\tlearn: 0.6629951\ttotal: 1.75s\tremaining: 852ms\n",
            "673:\tlearn: 0.6624114\ttotal: 1.76s\tremaining: 849ms\n",
            "674:\tlearn: 0.6619517\ttotal: 1.76s\tremaining: 847ms\n",
            "675:\tlearn: 0.6614001\ttotal: 1.76s\tremaining: 844ms\n",
            "676:\tlearn: 0.6606910\ttotal: 1.76s\tremaining: 841ms\n",
            "677:\tlearn: 0.6603546\ttotal: 1.76s\tremaining: 839ms\n",
            "678:\tlearn: 0.6600314\ttotal: 1.77s\tremaining: 836ms\n",
            "679:\tlearn: 0.6594500\ttotal: 1.77s\tremaining: 833ms\n",
            "680:\tlearn: 0.6586310\ttotal: 1.77s\tremaining: 831ms\n",
            "681:\tlearn: 0.6579832\ttotal: 1.77s\tremaining: 828ms\n",
            "682:\tlearn: 0.6574372\ttotal: 1.78s\tremaining: 825ms\n",
            "683:\tlearn: 0.6571488\ttotal: 1.78s\tremaining: 823ms\n",
            "684:\tlearn: 0.6568633\ttotal: 1.78s\tremaining: 820ms\n",
            "685:\tlearn: 0.6565139\ttotal: 1.78s\tremaining: 817ms\n",
            "686:\tlearn: 0.6561495\ttotal: 1.79s\tremaining: 815ms\n",
            "687:\tlearn: 0.6555676\ttotal: 1.79s\tremaining: 812ms\n",
            "688:\tlearn: 0.6544119\ttotal: 1.79s\tremaining: 809ms\n",
            "689:\tlearn: 0.6536842\ttotal: 1.79s\tremaining: 807ms\n",
            "690:\tlearn: 0.6529451\ttotal: 1.8s\tremaining: 804ms\n",
            "691:\tlearn: 0.6523821\ttotal: 1.8s\tremaining: 801ms\n",
            "692:\tlearn: 0.6519498\ttotal: 1.8s\tremaining: 799ms\n",
            "693:\tlearn: 0.6509975\ttotal: 1.8s\tremaining: 796ms\n",
            "694:\tlearn: 0.6502903\ttotal: 1.81s\tremaining: 793ms\n",
            "695:\tlearn: 0.6497488\ttotal: 1.81s\tremaining: 792ms\n",
            "696:\tlearn: 0.6492520\ttotal: 1.82s\tremaining: 790ms\n",
            "697:\tlearn: 0.6485820\ttotal: 1.82s\tremaining: 787ms\n",
            "698:\tlearn: 0.6476517\ttotal: 1.82s\tremaining: 784ms\n",
            "699:\tlearn: 0.6472346\ttotal: 1.82s\tremaining: 782ms\n",
            "700:\tlearn: 0.6462126\ttotal: 1.83s\tremaining: 779ms\n",
            "701:\tlearn: 0.6452377\ttotal: 1.83s\tremaining: 777ms\n",
            "702:\tlearn: 0.6447684\ttotal: 1.83s\tremaining: 774ms\n",
            "703:\tlearn: 0.6443176\ttotal: 1.83s\tremaining: 771ms\n",
            "704:\tlearn: 0.6437576\ttotal: 1.84s\tremaining: 769ms\n",
            "705:\tlearn: 0.6433314\ttotal: 1.84s\tremaining: 766ms\n",
            "706:\tlearn: 0.6426097\ttotal: 1.84s\tremaining: 763ms\n",
            "707:\tlearn: 0.6419185\ttotal: 1.84s\tremaining: 761ms\n",
            "708:\tlearn: 0.6410917\ttotal: 1.85s\tremaining: 758ms\n",
            "709:\tlearn: 0.6404418\ttotal: 1.85s\tremaining: 756ms\n",
            "710:\tlearn: 0.6397948\ttotal: 1.85s\tremaining: 753ms\n",
            "711:\tlearn: 0.6395052\ttotal: 1.85s\tremaining: 750ms\n",
            "712:\tlearn: 0.6391125\ttotal: 1.86s\tremaining: 748ms\n",
            "713:\tlearn: 0.6385506\ttotal: 1.86s\tremaining: 745ms\n",
            "714:\tlearn: 0.6382540\ttotal: 1.86s\tremaining: 742ms\n",
            "715:\tlearn: 0.6373242\ttotal: 1.86s\tremaining: 740ms\n",
            "716:\tlearn: 0.6370269\ttotal: 1.87s\tremaining: 737ms\n",
            "717:\tlearn: 0.6364990\ttotal: 1.87s\tremaining: 734ms\n",
            "718:\tlearn: 0.6359614\ttotal: 1.87s\tremaining: 732ms\n",
            "719:\tlearn: 0.6353788\ttotal: 1.87s\tremaining: 729ms\n",
            "720:\tlearn: 0.6346747\ttotal: 1.88s\tremaining: 726ms\n",
            "721:\tlearn: 0.6344322\ttotal: 1.88s\tremaining: 724ms\n",
            "722:\tlearn: 0.6340742\ttotal: 1.88s\tremaining: 721ms\n",
            "723:\tlearn: 0.6335701\ttotal: 1.88s\tremaining: 718ms\n",
            "724:\tlearn: 0.6330458\ttotal: 1.89s\tremaining: 716ms\n",
            "725:\tlearn: 0.6324514\ttotal: 1.89s\tremaining: 713ms\n",
            "726:\tlearn: 0.6315720\ttotal: 1.89s\tremaining: 711ms\n",
            "727:\tlearn: 0.6310363\ttotal: 1.89s\tremaining: 708ms\n",
            "728:\tlearn: 0.6300417\ttotal: 1.9s\tremaining: 705ms\n",
            "729:\tlearn: 0.6295121\ttotal: 1.9s\tremaining: 703ms\n",
            "730:\tlearn: 0.6292699\ttotal: 1.9s\tremaining: 700ms\n",
            "731:\tlearn: 0.6287215\ttotal: 1.9s\tremaining: 697ms\n",
            "732:\tlearn: 0.6282940\ttotal: 1.91s\tremaining: 695ms\n",
            "733:\tlearn: 0.6279173\ttotal: 1.91s\tremaining: 692ms\n",
            "734:\tlearn: 0.6272448\ttotal: 1.91s\tremaining: 689ms\n",
            "735:\tlearn: 0.6262843\ttotal: 1.91s\tremaining: 687ms\n",
            "736:\tlearn: 0.6259787\ttotal: 1.92s\tremaining: 684ms\n",
            "737:\tlearn: 0.6254475\ttotal: 1.92s\tremaining: 683ms\n",
            "738:\tlearn: 0.6251660\ttotal: 1.93s\tremaining: 680ms\n",
            "739:\tlearn: 0.6246375\ttotal: 1.93s\tremaining: 677ms\n",
            "740:\tlearn: 0.6245134\ttotal: 1.93s\tremaining: 675ms\n",
            "741:\tlearn: 0.6240481\ttotal: 1.93s\tremaining: 672ms\n",
            "742:\tlearn: 0.6231260\ttotal: 1.94s\tremaining: 669ms\n",
            "743:\tlearn: 0.6225903\ttotal: 1.94s\tremaining: 667ms\n",
            "744:\tlearn: 0.6221012\ttotal: 1.94s\tremaining: 664ms\n",
            "745:\tlearn: 0.6217234\ttotal: 1.94s\tremaining: 661ms\n",
            "746:\tlearn: 0.6213948\ttotal: 1.94s\tremaining: 659ms\n",
            "747:\tlearn: 0.6205796\ttotal: 1.95s\tremaining: 656ms\n",
            "748:\tlearn: 0.6199025\ttotal: 1.95s\tremaining: 653ms\n",
            "749:\tlearn: 0.6196780\ttotal: 1.95s\tremaining: 651ms\n",
            "750:\tlearn: 0.6192855\ttotal: 1.95s\tremaining: 648ms\n",
            "751:\tlearn: 0.6189480\ttotal: 1.96s\tremaining: 645ms\n",
            "752:\tlearn: 0.6184515\ttotal: 1.96s\tremaining: 643ms\n",
            "753:\tlearn: 0.6176443\ttotal: 1.96s\tremaining: 640ms\n",
            "754:\tlearn: 0.6174109\ttotal: 1.96s\tremaining: 637ms\n",
            "755:\tlearn: 0.6164443\ttotal: 1.97s\tremaining: 635ms\n",
            "756:\tlearn: 0.6157543\ttotal: 1.97s\tremaining: 632ms\n",
            "757:\tlearn: 0.6155310\ttotal: 1.97s\tremaining: 629ms\n",
            "758:\tlearn: 0.6147018\ttotal: 1.97s\tremaining: 627ms\n",
            "759:\tlearn: 0.6142159\ttotal: 1.98s\tremaining: 624ms\n",
            "760:\tlearn: 0.6136445\ttotal: 1.98s\tremaining: 622ms\n",
            "761:\tlearn: 0.6129938\ttotal: 1.98s\tremaining: 619ms\n",
            "762:\tlearn: 0.6125222\ttotal: 1.98s\tremaining: 616ms\n",
            "763:\tlearn: 0.6120313\ttotal: 1.99s\tremaining: 614ms\n",
            "764:\tlearn: 0.6112811\ttotal: 1.99s\tremaining: 611ms\n",
            "765:\tlearn: 0.6107271\ttotal: 1.99s\tremaining: 608ms\n",
            "766:\tlearn: 0.6102289\ttotal: 1.99s\tremaining: 606ms\n",
            "767:\tlearn: 0.6097998\ttotal: 2s\tremaining: 603ms\n",
            "768:\tlearn: 0.6090617\ttotal: 2s\tremaining: 601ms\n",
            "769:\tlearn: 0.6086030\ttotal: 2s\tremaining: 598ms\n",
            "770:\tlearn: 0.6082805\ttotal: 2s\tremaining: 595ms\n",
            "771:\tlearn: 0.6081755\ttotal: 2.01s\tremaining: 593ms\n",
            "772:\tlearn: 0.6075506\ttotal: 2.01s\tremaining: 590ms\n",
            "773:\tlearn: 0.6072977\ttotal: 2.01s\tremaining: 587ms\n",
            "774:\tlearn: 0.6066088\ttotal: 2.01s\tremaining: 585ms\n",
            "775:\tlearn: 0.6064484\ttotal: 2.02s\tremaining: 582ms\n",
            "776:\tlearn: 0.6057432\ttotal: 2.02s\tremaining: 580ms\n",
            "777:\tlearn: 0.6054646\ttotal: 2.02s\tremaining: 578ms\n",
            "778:\tlearn: 0.6051476\ttotal: 2.03s\tremaining: 576ms\n",
            "779:\tlearn: 0.6047732\ttotal: 2.04s\tremaining: 575ms\n",
            "780:\tlearn: 0.6039794\ttotal: 2.04s\tremaining: 573ms\n",
            "781:\tlearn: 0.6038153\ttotal: 2.04s\tremaining: 570ms\n",
            "782:\tlearn: 0.6033188\ttotal: 2.05s\tremaining: 567ms\n",
            "783:\tlearn: 0.6024648\ttotal: 2.05s\tremaining: 565ms\n",
            "784:\tlearn: 0.6019659\ttotal: 2.05s\tremaining: 562ms\n",
            "785:\tlearn: 0.6015241\ttotal: 2.05s\tremaining: 559ms\n",
            "786:\tlearn: 0.6011068\ttotal: 2.06s\tremaining: 557ms\n",
            "787:\tlearn: 0.6002980\ttotal: 2.06s\tremaining: 554ms\n",
            "788:\tlearn: 0.5995003\ttotal: 2.06s\tremaining: 551ms\n",
            "789:\tlearn: 0.5992238\ttotal: 2.06s\tremaining: 549ms\n",
            "790:\tlearn: 0.5985956\ttotal: 2.07s\tremaining: 546ms\n",
            "791:\tlearn: 0.5978930\ttotal: 2.07s\tremaining: 543ms\n",
            "792:\tlearn: 0.5973230\ttotal: 2.07s\tremaining: 541ms\n",
            "793:\tlearn: 0.5967614\ttotal: 2.07s\tremaining: 538ms\n",
            "794:\tlearn: 0.5962874\ttotal: 2.08s\tremaining: 536ms\n",
            "795:\tlearn: 0.5956812\ttotal: 2.08s\tremaining: 533ms\n",
            "796:\tlearn: 0.5953457\ttotal: 2.08s\tremaining: 530ms\n",
            "797:\tlearn: 0.5947891\ttotal: 2.08s\tremaining: 528ms\n",
            "798:\tlearn: 0.5944960\ttotal: 2.09s\tremaining: 525ms\n",
            "799:\tlearn: 0.5940239\ttotal: 2.09s\tremaining: 522ms\n",
            "800:\tlearn: 0.5937481\ttotal: 2.09s\tremaining: 520ms\n",
            "801:\tlearn: 0.5933312\ttotal: 2.09s\tremaining: 517ms\n",
            "802:\tlearn: 0.5931237\ttotal: 2.1s\tremaining: 514ms\n",
            "803:\tlearn: 0.5927016\ttotal: 2.1s\tremaining: 512ms\n",
            "804:\tlearn: 0.5925498\ttotal: 2.1s\tremaining: 509ms\n",
            "805:\tlearn: 0.5921733\ttotal: 2.1s\tremaining: 506ms\n",
            "806:\tlearn: 0.5919092\ttotal: 2.11s\tremaining: 504ms\n",
            "807:\tlearn: 0.5912401\ttotal: 2.11s\tremaining: 502ms\n",
            "808:\tlearn: 0.5909587\ttotal: 2.11s\tremaining: 499ms\n",
            "809:\tlearn: 0.5906243\ttotal: 2.12s\tremaining: 496ms\n",
            "810:\tlearn: 0.5901740\ttotal: 2.12s\tremaining: 494ms\n",
            "811:\tlearn: 0.5899582\ttotal: 2.12s\tremaining: 491ms\n",
            "812:\tlearn: 0.5898686\ttotal: 2.12s\tremaining: 488ms\n",
            "813:\tlearn: 0.5894673\ttotal: 2.13s\tremaining: 486ms\n",
            "814:\tlearn: 0.5891316\ttotal: 2.13s\tremaining: 483ms\n",
            "815:\tlearn: 0.5887490\ttotal: 2.13s\tremaining: 480ms\n",
            "816:\tlearn: 0.5880365\ttotal: 2.13s\tremaining: 478ms\n",
            "817:\tlearn: 0.5875693\ttotal: 2.13s\tremaining: 475ms\n",
            "818:\tlearn: 0.5874753\ttotal: 2.14s\tremaining: 473ms\n",
            "819:\tlearn: 0.5870263\ttotal: 2.14s\tremaining: 470ms\n",
            "820:\tlearn: 0.5862790\ttotal: 2.14s\tremaining: 467ms\n",
            "821:\tlearn: 0.5860228\ttotal: 2.15s\tremaining: 465ms\n",
            "822:\tlearn: 0.5858703\ttotal: 2.15s\tremaining: 462ms\n",
            "823:\tlearn: 0.5854375\ttotal: 2.15s\tremaining: 459ms\n",
            "824:\tlearn: 0.5848946\ttotal: 2.15s\tremaining: 457ms\n",
            "825:\tlearn: 0.5844423\ttotal: 2.15s\tremaining: 454ms\n",
            "826:\tlearn: 0.5840310\ttotal: 2.16s\tremaining: 451ms\n",
            "827:\tlearn: 0.5839493\ttotal: 2.16s\tremaining: 449ms\n",
            "828:\tlearn: 0.5835160\ttotal: 2.16s\tremaining: 446ms\n",
            "829:\tlearn: 0.5831072\ttotal: 2.17s\tremaining: 443ms\n",
            "830:\tlearn: 0.5828217\ttotal: 2.17s\tremaining: 441ms\n",
            "831:\tlearn: 0.5823353\ttotal: 2.17s\tremaining: 438ms\n",
            "832:\tlearn: 0.5820177\ttotal: 2.17s\tremaining: 436ms\n",
            "833:\tlearn: 0.5817787\ttotal: 2.18s\tremaining: 433ms\n",
            "834:\tlearn: 0.5814391\ttotal: 2.18s\tremaining: 431ms\n",
            "835:\tlearn: 0.5813529\ttotal: 2.18s\tremaining: 428ms\n",
            "836:\tlearn: 0.5808457\ttotal: 2.18s\tremaining: 425ms\n",
            "837:\tlearn: 0.5801929\ttotal: 2.19s\tremaining: 423ms\n",
            "838:\tlearn: 0.5796012\ttotal: 2.19s\tremaining: 420ms\n",
            "839:\tlearn: 0.5791302\ttotal: 2.19s\tremaining: 418ms\n",
            "840:\tlearn: 0.5788969\ttotal: 2.19s\tremaining: 415ms\n",
            "841:\tlearn: 0.5784437\ttotal: 2.2s\tremaining: 412ms\n",
            "842:\tlearn: 0.5779973\ttotal: 2.2s\tremaining: 410ms\n",
            "843:\tlearn: 0.5777077\ttotal: 2.2s\tremaining: 408ms\n",
            "844:\tlearn: 0.5771379\ttotal: 2.21s\tremaining: 405ms\n",
            "845:\tlearn: 0.5768028\ttotal: 2.21s\tremaining: 402ms\n",
            "846:\tlearn: 0.5762727\ttotal: 2.21s\tremaining: 400ms\n",
            "847:\tlearn: 0.5760831\ttotal: 2.21s\tremaining: 397ms\n",
            "848:\tlearn: 0.5752796\ttotal: 2.22s\tremaining: 395ms\n",
            "849:\tlearn: 0.5747687\ttotal: 2.22s\tremaining: 392ms\n",
            "850:\tlearn: 0.5743375\ttotal: 2.22s\tremaining: 389ms\n",
            "851:\tlearn: 0.5742607\ttotal: 2.23s\tremaining: 387ms\n",
            "852:\tlearn: 0.5737820\ttotal: 2.23s\tremaining: 384ms\n",
            "853:\tlearn: 0.5732270\ttotal: 2.23s\tremaining: 381ms\n",
            "854:\tlearn: 0.5728700\ttotal: 2.23s\tremaining: 379ms\n",
            "855:\tlearn: 0.5726129\ttotal: 2.23s\tremaining: 376ms\n",
            "856:\tlearn: 0.5720470\ttotal: 2.24s\tremaining: 373ms\n",
            "857:\tlearn: 0.5718174\ttotal: 2.24s\tremaining: 371ms\n",
            "858:\tlearn: 0.5712280\ttotal: 2.24s\tremaining: 368ms\n",
            "859:\tlearn: 0.5710103\ttotal: 2.25s\tremaining: 366ms\n",
            "860:\tlearn: 0.5710033\ttotal: 2.25s\tremaining: 363ms\n",
            "861:\tlearn: 0.5705485\ttotal: 2.25s\tremaining: 360ms\n",
            "862:\tlearn: 0.5701055\ttotal: 2.25s\tremaining: 358ms\n",
            "863:\tlearn: 0.5698986\ttotal: 2.25s\tremaining: 355ms\n",
            "864:\tlearn: 0.5695110\ttotal: 2.26s\tremaining: 352ms\n",
            "865:\tlearn: 0.5690552\ttotal: 2.26s\tremaining: 350ms\n",
            "866:\tlearn: 0.5687192\ttotal: 2.26s\tremaining: 347ms\n",
            "867:\tlearn: 0.5683152\ttotal: 2.27s\tremaining: 345ms\n",
            "868:\tlearn: 0.5676240\ttotal: 2.27s\tremaining: 342ms\n",
            "869:\tlearn: 0.5672131\ttotal: 2.27s\tremaining: 339ms\n",
            "870:\tlearn: 0.5668429\ttotal: 2.27s\tremaining: 337ms\n",
            "871:\tlearn: 0.5662183\ttotal: 2.27s\tremaining: 334ms\n",
            "872:\tlearn: 0.5658158\ttotal: 2.28s\tremaining: 331ms\n",
            "873:\tlearn: 0.5654244\ttotal: 2.28s\tremaining: 329ms\n",
            "874:\tlearn: 0.5653280\ttotal: 2.28s\tremaining: 326ms\n",
            "875:\tlearn: 0.5650056\ttotal: 2.29s\tremaining: 324ms\n",
            "876:\tlearn: 0.5649946\ttotal: 2.29s\tremaining: 321ms\n",
            "877:\tlearn: 0.5645422\ttotal: 2.29s\tremaining: 318ms\n",
            "878:\tlearn: 0.5645358\ttotal: 2.29s\tremaining: 316ms\n",
            "879:\tlearn: 0.5640854\ttotal: 2.29s\tremaining: 313ms\n",
            "880:\tlearn: 0.5636600\ttotal: 2.3s\tremaining: 311ms\n",
            "881:\tlearn: 0.5630975\ttotal: 2.3s\tremaining: 308ms\n",
            "882:\tlearn: 0.5630898\ttotal: 2.3s\tremaining: 305ms\n",
            "883:\tlearn: 0.5623757\ttotal: 2.31s\tremaining: 303ms\n",
            "884:\tlearn: 0.5617599\ttotal: 2.31s\tremaining: 300ms\n",
            "885:\tlearn: 0.5612617\ttotal: 2.31s\tremaining: 298ms\n",
            "886:\tlearn: 0.5608586\ttotal: 2.31s\tremaining: 295ms\n",
            "887:\tlearn: 0.5604535\ttotal: 2.32s\tremaining: 292ms\n",
            "888:\tlearn: 0.5599360\ttotal: 2.32s\tremaining: 290ms\n",
            "889:\tlearn: 0.5594637\ttotal: 2.32s\tremaining: 287ms\n",
            "890:\tlearn: 0.5591159\ttotal: 2.33s\tremaining: 284ms\n",
            "891:\tlearn: 0.5587135\ttotal: 2.33s\tremaining: 282ms\n",
            "892:\tlearn: 0.5583568\ttotal: 2.33s\tremaining: 279ms\n",
            "893:\tlearn: 0.5581173\ttotal: 2.33s\tremaining: 277ms\n",
            "894:\tlearn: 0.5575220\ttotal: 2.34s\tremaining: 274ms\n",
            "895:\tlearn: 0.5572663\ttotal: 2.34s\tremaining: 272ms\n",
            "896:\tlearn: 0.5569966\ttotal: 2.34s\tremaining: 269ms\n",
            "897:\tlearn: 0.5565135\ttotal: 2.35s\tremaining: 267ms\n",
            "898:\tlearn: 0.5563515\ttotal: 2.35s\tremaining: 264ms\n",
            "899:\tlearn: 0.5559704\ttotal: 2.35s\tremaining: 261ms\n",
            "900:\tlearn: 0.5558816\ttotal: 2.35s\tremaining: 259ms\n",
            "901:\tlearn: 0.5553899\ttotal: 2.36s\tremaining: 256ms\n",
            "902:\tlearn: 0.5550812\ttotal: 2.36s\tremaining: 253ms\n",
            "903:\tlearn: 0.5546177\ttotal: 2.36s\tremaining: 251ms\n",
            "904:\tlearn: 0.5543307\ttotal: 2.36s\tremaining: 248ms\n",
            "905:\tlearn: 0.5541843\ttotal: 2.37s\tremaining: 245ms\n",
            "906:\tlearn: 0.5535549\ttotal: 2.37s\tremaining: 243ms\n",
            "907:\tlearn: 0.5530819\ttotal: 2.37s\tremaining: 240ms\n",
            "908:\tlearn: 0.5526489\ttotal: 2.37s\tremaining: 238ms\n",
            "909:\tlearn: 0.5524267\ttotal: 2.38s\tremaining: 235ms\n",
            "910:\tlearn: 0.5524198\ttotal: 2.38s\tremaining: 232ms\n",
            "911:\tlearn: 0.5520497\ttotal: 2.38s\tremaining: 230ms\n",
            "912:\tlearn: 0.5516195\ttotal: 2.38s\tremaining: 227ms\n",
            "913:\tlearn: 0.5512996\ttotal: 2.38s\tremaining: 224ms\n",
            "914:\tlearn: 0.5509408\ttotal: 2.39s\tremaining: 222ms\n",
            "915:\tlearn: 0.5506914\ttotal: 2.39s\tremaining: 219ms\n",
            "916:\tlearn: 0.5502052\ttotal: 2.39s\tremaining: 217ms\n",
            "917:\tlearn: 0.5499752\ttotal: 2.4s\tremaining: 214ms\n",
            "918:\tlearn: 0.5496780\ttotal: 2.4s\tremaining: 211ms\n",
            "919:\tlearn: 0.5494102\ttotal: 2.4s\tremaining: 209ms\n",
            "920:\tlearn: 0.5489182\ttotal: 2.4s\tremaining: 206ms\n",
            "921:\tlearn: 0.5483434\ttotal: 2.41s\tremaining: 204ms\n",
            "922:\tlearn: 0.5479627\ttotal: 2.41s\tremaining: 201ms\n",
            "923:\tlearn: 0.5475836\ttotal: 2.41s\tremaining: 198ms\n",
            "924:\tlearn: 0.5469326\ttotal: 2.41s\tremaining: 196ms\n",
            "925:\tlearn: 0.5464876\ttotal: 2.42s\tremaining: 193ms\n",
            "926:\tlearn: 0.5460884\ttotal: 2.42s\tremaining: 190ms\n",
            "927:\tlearn: 0.5456919\ttotal: 2.42s\tremaining: 188ms\n",
            "928:\tlearn: 0.5453615\ttotal: 2.42s\tremaining: 185ms\n",
            "929:\tlearn: 0.5449980\ttotal: 2.43s\tremaining: 183ms\n",
            "930:\tlearn: 0.5447920\ttotal: 2.43s\tremaining: 180ms\n",
            "931:\tlearn: 0.5444413\ttotal: 2.43s\tremaining: 177ms\n",
            "932:\tlearn: 0.5438758\ttotal: 2.43s\tremaining: 175ms\n",
            "933:\tlearn: 0.5433147\ttotal: 2.44s\tremaining: 172ms\n",
            "934:\tlearn: 0.5429535\ttotal: 2.44s\tremaining: 170ms\n",
            "935:\tlearn: 0.5426515\ttotal: 2.44s\tremaining: 167ms\n",
            "936:\tlearn: 0.5425964\ttotal: 2.44s\tremaining: 164ms\n",
            "937:\tlearn: 0.5423683\ttotal: 2.45s\tremaining: 162ms\n",
            "938:\tlearn: 0.5420009\ttotal: 2.45s\tremaining: 159ms\n",
            "939:\tlearn: 0.5413961\ttotal: 2.45s\tremaining: 157ms\n",
            "940:\tlearn: 0.5410353\ttotal: 2.45s\tremaining: 154ms\n",
            "941:\tlearn: 0.5407584\ttotal: 2.46s\tremaining: 151ms\n",
            "942:\tlearn: 0.5403686\ttotal: 2.46s\tremaining: 149ms\n",
            "943:\tlearn: 0.5400076\ttotal: 2.46s\tremaining: 146ms\n",
            "944:\tlearn: 0.5397075\ttotal: 2.46s\tremaining: 143ms\n",
            "945:\tlearn: 0.5393071\ttotal: 2.47s\tremaining: 141ms\n",
            "946:\tlearn: 0.5390955\ttotal: 2.47s\tremaining: 138ms\n",
            "947:\tlearn: 0.5385827\ttotal: 2.47s\tremaining: 136ms\n",
            "948:\tlearn: 0.5382873\ttotal: 2.47s\tremaining: 133ms\n",
            "949:\tlearn: 0.5378992\ttotal: 2.48s\tremaining: 130ms\n",
            "950:\tlearn: 0.5377839\ttotal: 2.48s\tremaining: 128ms\n",
            "951:\tlearn: 0.5375635\ttotal: 2.48s\tremaining: 125ms\n",
            "952:\tlearn: 0.5370708\ttotal: 2.48s\tremaining: 123ms\n",
            "953:\tlearn: 0.5369794\ttotal: 2.49s\tremaining: 120ms\n",
            "954:\tlearn: 0.5364896\ttotal: 2.49s\tremaining: 117ms\n",
            "955:\tlearn: 0.5359543\ttotal: 2.49s\tremaining: 115ms\n",
            "956:\tlearn: 0.5356314\ttotal: 2.5s\tremaining: 112ms\n",
            "957:\tlearn: 0.5351595\ttotal: 2.5s\tremaining: 110ms\n",
            "958:\tlearn: 0.5347365\ttotal: 2.5s\tremaining: 107ms\n",
            "959:\tlearn: 0.5343731\ttotal: 2.5s\tremaining: 104ms\n",
            "960:\tlearn: 0.5342549\ttotal: 2.51s\tremaining: 102ms\n",
            "961:\tlearn: 0.5340056\ttotal: 2.51s\tremaining: 99.1ms\n",
            "962:\tlearn: 0.5335909\ttotal: 2.51s\tremaining: 96.5ms\n",
            "963:\tlearn: 0.5332533\ttotal: 2.51s\tremaining: 93.9ms\n",
            "964:\tlearn: 0.5330946\ttotal: 2.52s\tremaining: 91.3ms\n",
            "965:\tlearn: 0.5328021\ttotal: 2.52s\tremaining: 88.7ms\n",
            "966:\tlearn: 0.5325188\ttotal: 2.52s\tremaining: 86.1ms\n",
            "967:\tlearn: 0.5322975\ttotal: 2.52s\tremaining: 83.4ms\n",
            "968:\tlearn: 0.5319158\ttotal: 2.53s\tremaining: 80.8ms\n",
            "969:\tlearn: 0.5316257\ttotal: 2.53s\tremaining: 78.2ms\n",
            "970:\tlearn: 0.5314623\ttotal: 2.53s\tremaining: 75.6ms\n",
            "971:\tlearn: 0.5312938\ttotal: 2.53s\tremaining: 73ms\n",
            "972:\tlearn: 0.5310850\ttotal: 2.54s\tremaining: 70.4ms\n",
            "973:\tlearn: 0.5308663\ttotal: 2.54s\tremaining: 67.8ms\n",
            "974:\tlearn: 0.5304361\ttotal: 2.54s\tremaining: 65.2ms\n",
            "975:\tlearn: 0.5301296\ttotal: 2.54s\tremaining: 62.5ms\n",
            "976:\tlearn: 0.5298252\ttotal: 2.55s\tremaining: 60ms\n",
            "977:\tlearn: 0.5295279\ttotal: 2.55s\tremaining: 57.3ms\n",
            "978:\tlearn: 0.5293759\ttotal: 2.55s\tremaining: 54.7ms\n",
            "979:\tlearn: 0.5290531\ttotal: 2.55s\tremaining: 52.1ms\n",
            "980:\tlearn: 0.5287437\ttotal: 2.56s\tremaining: 49.5ms\n",
            "981:\tlearn: 0.5283424\ttotal: 2.56s\tremaining: 46.9ms\n",
            "982:\tlearn: 0.5279441\ttotal: 2.56s\tremaining: 44.3ms\n",
            "983:\tlearn: 0.5276803\ttotal: 2.56s\tremaining: 41.7ms\n",
            "984:\tlearn: 0.5276138\ttotal: 2.57s\tremaining: 39.1ms\n",
            "985:\tlearn: 0.5271692\ttotal: 2.57s\tremaining: 36.5ms\n",
            "986:\tlearn: 0.5268624\ttotal: 2.57s\tremaining: 33.9ms\n",
            "987:\tlearn: 0.5265958\ttotal: 2.57s\tremaining: 31.3ms\n",
            "988:\tlearn: 0.5264845\ttotal: 2.58s\tremaining: 28.7ms\n",
            "989:\tlearn: 0.5262767\ttotal: 2.58s\tremaining: 26ms\n",
            "990:\tlearn: 0.5259736\ttotal: 2.58s\tremaining: 23.4ms\n",
            "991:\tlearn: 0.5256738\ttotal: 2.58s\tremaining: 20.8ms\n",
            "992:\tlearn: 0.5255696\ttotal: 2.59s\tremaining: 18.2ms\n",
            "993:\tlearn: 0.5255433\ttotal: 2.59s\tremaining: 15.6ms\n",
            "994:\tlearn: 0.5250144\ttotal: 2.59s\tremaining: 13ms\n",
            "995:\tlearn: 0.5245428\ttotal: 2.59s\tremaining: 10.4ms\n",
            "996:\tlearn: 0.5243806\ttotal: 2.6s\tremaining: 7.81ms\n",
            "997:\tlearn: 0.5241531\ttotal: 2.6s\tremaining: 5.21ms\n",
            "998:\tlearn: 0.5239962\ttotal: 2.6s\tremaining: 2.6ms\n",
            "999:\tlearn: 0.5238345\ttotal: 2.61s\tremaining: 0us\n"
          ]
        },
        {
          "output_type": "execute_result",
          "data": {
            "text/plain": [
              "<catboost.core.CatBoostRegressor at 0x7e8163d17e50>"
            ]
          },
          "metadata": {},
          "execution_count": 108
        }
      ],
      "source": [
        "#training the data with X_train\n",
        "model.fit(X_train,Y_train)"
      ]
    },
    {
      "cell_type": "markdown",
      "source": [
        "Model Evaluation"
      ],
      "metadata": {
        "id": "H0-tDgMZ9ojg"
      }
    },
    {
      "cell_type": "markdown",
      "source": [
        "Prediction on test data"
      ],
      "metadata": {
        "id": "tH9V5KAo9sty"
      }
    },
    {
      "cell_type": "code",
      "execution_count": 103,
      "metadata": {
        "id": "CbMXwqtRrBX1"
      },
      "outputs": [],
      "source": [
        "test_data_prediction = model.predict(X_test)"
      ]
    },
    {
      "cell_type": "code",
      "source": [
        "print(test_data_prediction)"
      ],
      "metadata": {
        "colab": {
          "base_uri": "https://localhost:8080/"
        },
        "id": "Wqqfuzgy95KT",
        "outputId": "f3c0803e-6e55-4b47-8cc1-4b9e0965e156"
      },
      "execution_count": 104,
      "outputs": [
        {
          "output_type": "stream",
          "name": "stdout",
          "text": [
            "[[134.]\n",
            " [220.]\n",
            " [ 36.]\n",
            " ...\n",
            " [141.]\n",
            " [ 23.]\n",
            " [ 94.]]\n"
          ]
        }
      ]
    },
    {
      "cell_type": "markdown",
      "source": [
        "Mean Absolute Error\n"
      ],
      "metadata": {
        "id": "UijcmsXp-DCK"
      }
    },
    {
      "cell_type": "code",
      "source": [
        "mae = metrics.mean_absolute_error(Y_test, test_data_prediction)"
      ],
      "metadata": {
        "id": "w0KyKyKK97bh"
      },
      "execution_count": 109,
      "outputs": []
    },
    {
      "cell_type": "code",
      "source": [
        "print(mae)"
      ],
      "metadata": {
        "colab": {
          "base_uri": "https://localhost:8080/"
        },
        "id": "49HnOZJ0-f-G",
        "outputId": "3eed5e3a-f299-4c9b-918c-4909f9ba1c7f"
      },
      "execution_count": 110,
      "outputs": [
        {
          "output_type": "stream",
          "name": "stdout",
          "text": [
            "4.51\n"
          ]
        }
      ]
    }
  ],
  "metadata": {
    "colab": {
      "provenance": []
    },
    "kernelspec": {
      "display_name": "Python 3",
      "name": "python3"
    },
    "language_info": {
      "name": "python"
    }
  },
  "nbformat": 4,
  "nbformat_minor": 0
}